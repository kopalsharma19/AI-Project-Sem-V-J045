{
  "nbformat": 4,
  "nbformat_minor": 0,
  "metadata": {
    "colab": {
      "name": "AI_M1_J045_280820 .ipynb",
      "provenance": [],
      "collapsed_sections": [],
      "authorship_tag": "ABX9TyM84gSSrAAWJkirq2G4c06B",
      "include_colab_link": true
    },
    "kernelspec": {
      "name": "python3",
      "display_name": "Python 3"
    }
  },
  "cells": [
    {
      "cell_type": "markdown",
      "metadata": {
        "id": "view-in-github",
        "colab_type": "text"
      },
      "source": [
        "<a href=\"https://colab.research.google.com/github/kopalsharma19/AI-Project-Sem-V-J045/blob/master/Classwork/AI_M1_J045_280820_.ipynb\" target=\"_parent\"><img src=\"https://colab.research.google.com/assets/colab-badge.svg\" alt=\"Open In Colab\"/></a>"
      ]
    },
    {
      "cell_type": "markdown",
      "metadata": {
        "id": "pxi98UkaBZFo",
        "colab_type": "text"
      },
      "source": [
        "##Question \n",
        "\n",
        "There is a horizontal row of  cubes. The length of each cube is given. You need to create a new vertical pile of cubes. The new pile should follow these directions: \n",
        "if  cube(i) is on top of cube(j) then sideLength(j) >= sideLength(i) \n",
        "\n",
        "When stacking the cubes, you can only pick up either the leftmost or the rightmost cube each time. Print \"Yes\" if it is possible to stack the cubes. Otherwise, print \"No\". Do not print the quotation marks.\n"
      ]
    },
    {
      "cell_type": "markdown",
      "metadata": {
        "id": "S_4DDKSnCz79",
        "colab_type": "text"
      },
      "source": [
        "### How to Input Test Cases\n",
        "Two lines will be needed to  given as an input. The first line being the number of cubes stacked horizontally say n. The second line has n equally spaced integers which tell the sideLength of each cube in a particular order. \n",
        "\n",
        "For example - \n",
        "\n",
        "4\n",
        "\n",
        "3 5 2 1 "
      ]
    },
    {
      "cell_type": "markdown",
      "metadata": {
        "id": "mZ9xhjy3Dd5x",
        "colab_type": "text"
      },
      "source": [
        "### How will the Output be Displayed \n",
        "A single line output will be generated for each code, saying \"Yes\" or \"No\" (without quotes). \n",
        "\n",
        "For example - \n",
        "No "
      ]
    },
    {
      "cell_type": "code",
      "metadata": {
        "id": "CXaaiAgLFdid",
        "colab_type": "code",
        "colab": {}
      },
      "source": [
        "def cube_stacking(lst):\n",
        "  if (len(lst)<=2):\n",
        "      print(\"Yes\") \n",
        "      #If there are only 2 or less than 2 cubes stacked horizontally then, it is obviously possible to stack them vertically. \n",
        "      #By just picking up the left most or right most cube and collange them sideLength wise. Hence we print \"Yes\" for such cases.  \n",
        "\n",
        "  larger_val = 1000000000000000 #Taking an arbitary number because we initally need larger_val value to put the comparision of left<=larger_val in our code. It's expected that the sideLength does not exceed this value. \n",
        "  left = lst.popleft() #Remove and return an element from the left side of the deque. If no elements are present, raises an IndexError.\n",
        "  right = lst.pop() #Remove and return an element from the right side of the deque. If no elements are present, raises an IndexError.\n",
        "\n",
        "  latest = 0 #This latest variable is defined so that the latest cube sideLength (right or left) can be saved in one place to later compare \n",
        "  while (len(lst)>0):\n",
        "      flag = 0\n",
        "      if (left >= right and left <= larger_val):\n",
        "          larger_val = left #After the above if condition it is evident that left has the larger sideLength, so we save it in larger_val \n",
        "          left = lst.popleft() #Then we pop out the next left element from the deque\n",
        "          latest = left #Since this if condition black executed, the latest/recent left cube will be saved in variable latest \n",
        "          flag = 1 #Counter to see if this if block has actually been executed or not \n",
        "      elif (right> left and right <= larger_val):\n",
        "          larger_val = right #This is the other condition, that if the above elif condition is true then right side has the larger sideLength, so we save that in larger_val \n",
        "          right = lst.pop() #Then we pop out the next right element from the deque \n",
        "          latest = right #Since this elif condition block executed, the latest/recent right cube will be saved in variable latest \n",
        "          flag = 1 #Counter to see if this elif block has actually been executed or not \n",
        "      if flag == 0:\n",
        "          break #Once none of the above if/elif conditions satisfy (incase of the deque being empty), then the flag remains to 0, which breaks it from the while loop \n",
        "\n",
        "  if len(lst)>0 or latest > larger_val: \n",
        "      print(\"No\") #If the latest element is not smaller than the larger_val that means that the vertically stacked up pile of cube cannot be made where the larger cubes are below smaller cubes \n",
        "      #That  is why \"No\" is printed \n",
        "  else:\n",
        "      print(\"Yes\") #Apart from this in the other condition, where latest cube is smaller than the larget_val we print a \"Yes\"\n"
      ],
      "execution_count": 9,
      "outputs": []
    },
    {
      "cell_type": "markdown",
      "metadata": {
        "id": "d7RbW90FR6TI",
        "colab_type": "text"
      },
      "source": [
        "###Test Case 1"
      ]
    },
    {
      "cell_type": "code",
      "metadata": {
        "id": "WeFQeEezBTzq",
        "colab_type": "code",
        "colab": {
          "base_uri": "https://localhost:8080/",
          "height": 70
        },
        "outputId": "d9934720-f5a1-4f66-88ed-4689cb70622a"
      },
      "source": [
        "from collections import deque \n",
        "import sys\n",
        "n = input() #Takes input of number of cube \n",
        "coll = map(int,input().split()) #Takes input of the list of integers which tells the sideLength \n",
        "lst = deque(coll)\n",
        "cube_stacking(lst)"
      ],
      "execution_count": 10,
      "outputs": [
        {
          "output_type": "stream",
          "text": [
            "3\n",
            "1 3 2\n",
            "No\n"
          ],
          "name": "stdout"
        }
      ]
    },
    {
      "cell_type": "markdown",
      "metadata": {
        "id": "qMMixd7XR91l",
        "colab_type": "text"
      },
      "source": [
        "### Test Case 2"
      ]
    },
    {
      "cell_type": "code",
      "metadata": {
        "id": "xIp7dPpcSBSF",
        "colab_type": "code",
        "colab": {
          "base_uri": "https://localhost:8080/",
          "height": 70
        },
        "outputId": "50587a7f-06b9-4b6f-833c-8718397cbeeb"
      },
      "source": [
        "from collections import deque \n",
        "import sys\n",
        "n = input() #Takes input of number of cube \n",
        "coll = map(int,input().split()) #Takes input of the list of integers which tells the sideLength \n",
        "lst = deque(coll)\n",
        "cube_stacking(lst)"
      ],
      "execution_count": 14,
      "outputs": [
        {
          "output_type": "stream",
          "text": [
            "6\n",
            "4 3 2 1 3 4\n",
            "Yes\n"
          ],
          "name": "stdout"
        }
      ]
    },
    {
      "cell_type": "markdown",
      "metadata": {
        "id": "ge04REHsSHIY",
        "colab_type": "text"
      },
      "source": [
        "### Test Case 3"
      ]
    },
    {
      "cell_type": "code",
      "metadata": {
        "id": "hAx_zkCxPXLc",
        "colab_type": "code",
        "colab": {
          "base_uri": "https://localhost:8080/",
          "height": 70
        },
        "outputId": "8b53f077-e2f5-4c0d-9573-eaa8b64d6629"
      },
      "source": [
        "from collections import deque \n",
        "import sys\n",
        "n = input() #Takes input of number of cube \n",
        "coll = map(int,input().split()) #Takes input of the list of integers which tells the sideLength \n",
        "lst = deque(coll)\n",
        "cube_stacking(lst)"
      ],
      "execution_count": 15,
      "outputs": [
        {
          "output_type": "stream",
          "text": [
            "4\n",
            "1 2 3 4\n",
            "Yes\n"
          ],
          "name": "stdout"
        }
      ]
    },
    {
      "cell_type": "markdown",
      "metadata": {
        "id": "u7JNSN1jSO3J",
        "colab_type": "text"
      },
      "source": [
        "###Test Case 4"
      ]
    },
    {
      "cell_type": "code",
      "metadata": {
        "id": "T2XZe-6tSOIQ",
        "colab_type": "code",
        "colab": {
          "base_uri": "https://localhost:8080/",
          "height": 70
        },
        "outputId": "1793d93a-32f9-4226-c9ac-809ca0f57d28"
      },
      "source": [
        "from collections import deque \n",
        "import sys\n",
        "n = input() #Takes input of number of cube \n",
        "coll = map(int,input().split()) #Takes input of the list of integers which tells the sideLength \n",
        "lst = deque(coll)\n",
        "cube_stacking(lst)"
      ],
      "execution_count": 16,
      "outputs": [
        {
          "output_type": "stream",
          "text": [
            "5\n",
            "3 2 1 4 5\n",
            "Yes\n"
          ],
          "name": "stdout"
        }
      ]
    },
    {
      "cell_type": "markdown",
      "metadata": {
        "id": "OEWM4pStSUzK",
        "colab_type": "text"
      },
      "source": [
        "###Test Case 5"
      ]
    },
    {
      "cell_type": "code",
      "metadata": {
        "id": "AYJ6042FSW9R",
        "colab_type": "code",
        "colab": {
          "base_uri": "https://localhost:8080/",
          "height": 70
        },
        "outputId": "26980ad1-9f54-4019-d7ae-d99385974666"
      },
      "source": [
        "from collections import deque \n",
        "import sys\n",
        "n = input() #Takes input of number of cube \n",
        "coll = map(int,input().split()) #Takes input of the list of integers which tells the sideLength \n",
        "lst = deque(coll)\n",
        "cube_stacking(lst)"
      ],
      "execution_count": 17,
      "outputs": [
        {
          "output_type": "stream",
          "text": [
            "4 \n",
            "3 2 1 4\n",
            "Yes\n"
          ],
          "name": "stdout"
        }
      ]
    },
    {
      "cell_type": "markdown",
      "metadata": {
        "id": "ONa-_KYzSaRE",
        "colab_type": "text"
      },
      "source": [
        "###Test Case 6"
      ]
    },
    {
      "cell_type": "code",
      "metadata": {
        "id": "08Ocv_-PSb_6",
        "colab_type": "code",
        "colab": {
          "base_uri": "https://localhost:8080/",
          "height": 70
        },
        "outputId": "1f213038-5dab-41ef-a39a-528e50380a66"
      },
      "source": [
        "from collections import deque \n",
        "import sys\n",
        "n = input() #Takes input of number of cube \n",
        "coll = map(int,input().split()) #Takes input of the list of integers which tells the sideLength \n",
        "lst = deque(coll)\n",
        "cube_stacking(lst)"
      ],
      "execution_count": 18,
      "outputs": [
        {
          "output_type": "stream",
          "text": [
            "4\n",
            "1 3 2 4\n",
            "No\n"
          ],
          "name": "stdout"
        }
      ]
    }
  ]
}
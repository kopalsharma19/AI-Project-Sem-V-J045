{
  "nbformat": 4,
  "nbformat_minor": 0,
  "metadata": {
    "colab": {
      "name": "CW_J045_010820.ipynb",
      "provenance": [],
      "collapsed_sections": [],
      "authorship_tag": "ABX9TyOh26Ayu9rU8CxIQPdZaRmB",
      "include_colab_link": true
    },
    "kernelspec": {
      "name": "python3",
      "display_name": "Python 3"
    }
  },
  "cells": [
    {
      "cell_type": "markdown",
      "metadata": {
        "id": "view-in-github",
        "colab_type": "text"
      },
      "source": [
        "<a href=\"https://colab.research.google.com/github/kopalsharma19/AI-Project-Sem-V-J045/blob/master/Classwork/CW_J045_010820.ipynb\" target=\"_parent\"><img src=\"https://colab.research.google.com/assets/colab-badge.svg\" alt=\"Open In Colab\"/></a>"
      ]
    },
    {
      "cell_type": "markdown",
      "metadata": {
        "id": "qnsPbUA6ExQ1",
        "colab_type": "text"
      },
      "source": [
        "#Recursion - Function calling itself during execution \n",
        "1+2+3+4 \\n\n",
        "1+2 = 3 #sum(1,2) \\n \n",
        "3+3 = 6 #sum((1,2),3) \\n\n",
        "6+4 = 10(sum((1,2),3),4)\n"
      ]
    },
    {
      "cell_type": "code",
      "metadata": {
        "id": "mSOkV_DrD8Dc",
        "colab_type": "code",
        "colab": {}
      },
      "source": [
        "def recur_factorial(n):  \n",
        "   if n == 1:  \n",
        "       return n  \n",
        "   else:  \n",
        "       return n*recur_factorial(n-1)  \n",
        "\n",
        "def factorial_simpl(n):\n",
        "    \n",
        "  fact = 1\n",
        "    \n",
        "  for i in range(1,n+1): \n",
        "      fact = fact * i \n",
        "        \n",
        "  return fact\n"
      ],
      "execution_count": 8,
      "outputs": []
    },
    {
      "cell_type": "code",
      "metadata": {
        "id": "-duAi8N-IBv7",
        "colab_type": "code",
        "colab": {
          "base_uri": "https://localhost:8080/",
          "height": 52
        },
        "outputId": "66fe2b64-e7a1-41c3-8082-e419cb4c8e93"
      },
      "source": [
        "print(recur_factorial(5))\n",
        "print(factorial_simpl(5))"
      ],
      "execution_count": 9,
      "outputs": [
        {
          "output_type": "stream",
          "text": [
            "120\n",
            "120\n"
          ],
          "name": "stdout"
        }
      ]
    },
    {
      "cell_type": "code",
      "metadata": {
        "id": "UOkT1gDWIjRS",
        "colab_type": "code",
        "colab": {}
      },
      "source": [
        "#Fibonacci\n",
        "def recur_fibo(n):\n",
        "   if n <= 1:\n",
        "       return n\n",
        "   else:\n",
        "       return (recur_fibo(n-1) + recur_fibo(n-2))\n",
        "\n",
        "\n",
        "def fibo(nterms):\n",
        "  n1, n2 = 0, 1\n",
        "  count = 0\n",
        "\n",
        "# check if the number of terms is valid\n",
        "  if nterms <= 0:\n",
        "    pass\n",
        "  elif nterms == 1:\n",
        "    return n1\n",
        "  else:\n",
        "    while count < nterms:\n",
        "        nth = n1 + n2\n",
        "        # update values\n",
        "        n1 = n2\n",
        "        n2 = nth\n",
        "        count += 1\n",
        "    return n1\n",
        "\n"
      ],
      "execution_count": 10,
      "outputs": []
    },
    {
      "cell_type": "code",
      "metadata": {
        "id": "3aNaCOnOO_1J",
        "colab_type": "code",
        "colab": {
          "base_uri": "https://localhost:8080/",
          "height": 52
        },
        "outputId": "cf2e8027-4c36-4fb7-865a-23246841349f"
      },
      "source": [
        "print(fibo(5))\n",
        "print(recur_fibo(5))"
      ],
      "execution_count": 11,
      "outputs": [
        {
          "output_type": "stream",
          "text": [
            "5\n",
            "5\n"
          ],
          "name": "stdout"
        }
      ]
    },
    {
      "cell_type": "markdown",
      "metadata": {
        "id": "_lzuw8FrXNC2",
        "colab_type": "text"
      },
      "source": [
        "Tractable - PTIME (Polynomial Time Solvable)Solution is in Polynomial Time\n",
        "Polynomial - expression where each term is n^k where k can be any whole number\n",
        "Degree of the polynomial highest power of the variable within the expression \n",
        "\n",
        "Polynomial Time - Runtime of the code or solution should be a polynomial of degree k where k is a constant, and since it is time n cannot be negative\n",
        "n: input space or dimension \n",
        "eg O(n^4) - 3*n^4+2*n^2+1\n",
        "n=1 => 1\n",
        "n=2 => 2^4\n",
        "n=3 => 3^4\n",
        "n=4 => 4^4 ...\n",
        "\n",
        "O(n!)\n",
        "n*n-1*n-2*...1 -> Polynomial of Degree n-1 - Non Polynomial Time (NP)\n",
        "\n"
      ]
    },
    {
      "cell_type": "code",
      "metadata": {
        "id": "QWMN0AIRX1Kp",
        "colab_type": "code",
        "colab": {}
      },
      "source": [
        "#sum of n numbers \n"
      ],
      "execution_count": 12,
      "outputs": []
    },
    {
      "cell_type": "code",
      "metadata": {
        "id": "MNNyXGGjWvq3",
        "colab_type": "code",
        "colab": {}
      },
      "source": [
        "#Binary Search \n",
        "list = [5,3,2,1,5,6,7,123,97,65,34,22,344,2245,122,45]\n",
        "\n",
        "list1 = list.copy().sort()"
      ],
      "execution_count": 13,
      "outputs": []
    },
    {
      "cell_type": "code",
      "metadata": {
        "id": "Pd49feP1W_Xt",
        "colab_type": "code",
        "colab": {}
      },
      "source": [
        ""
      ],
      "execution_count": 13,
      "outputs": []
    },
    {
      "cell_type": "markdown",
      "metadata": {
        "id": "-vNKl6l3kdhM",
        "colab_type": "text"
      },
      "source": [
        "# Recursion - Function Calling itself during execution\n",
        "1+2+3+4 \\n\n",
        "1+2=3 # Sum(1,2) \\n\n",
        "3+3=6 # Sum(Sum(1,2),3) \\n\n",
        "6+4=10 # Sum(Sum(Sum(1,2),3),4) \\n\n",
        "\n",
        "# Memoisation ~ Memorandum(Latin) (To be remembered)\n",
        "Storing intermediate values, through various ways\n",
        "\n",
        "\n"
      ]
    }
  ]
}
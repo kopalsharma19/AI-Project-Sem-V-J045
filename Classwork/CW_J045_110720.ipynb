{
  "nbformat": 4,
  "nbformat_minor": 0,
  "metadata": {
    "colab": {
      "name": "CW_J045_040720.ipynb",
      "provenance": [],
      "collapsed_sections": [],
      "authorship_tag": "ABX9TyOK9WoahPd/rR8HUdjmq3n2",
      "include_colab_link": true
    },
    "kernelspec": {
      "name": "python3",
      "display_name": "Python 3"
    }
  },
  "cells": [
    {
      "cell_type": "markdown",
      "metadata": {
        "id": "view-in-github",
        "colab_type": "text"
      },
      "source": [
        "<a href=\"https://colab.research.google.com/github/kopalsharma19/AI-Project-Sem-V-J045/blob/master/Classwork/CW_J045_110720.ipynb\" target=\"_parent\"><img src=\"https://colab.research.google.com/assets/colab-badge.svg\" alt=\"Open In Colab\"/></a>"
      ]
    },
    {
      "cell_type": "code",
      "metadata": {
        "id": "HEWRTGtDF7Xl",
        "colab_type": "code",
        "colab": {}
      },
      "source": [
        "#list\n",
        "a = [1,2,3,4,5,'human']\n",
        "\n",
        "#tuple\n",
        "a=(1,2,3,4,5,'human')\n",
        "\n",
        "#set \n",
        "a = {1,2,3,4,5,'human'}\n",
        "\n",
        "#dictionary\n",
        "a={'list':[1,2,3,4,5,'human'],\n",
        "   'tuple':(1,2,3,4,5,'human'),\n",
        "   'set':{1,2,3,4,5,'human'}}\n",
        "\n"
      ],
      "execution_count": null,
      "outputs": []
    },
    {
      "cell_type": "code",
      "metadata": {
        "id": "vqQMCdO9J5Pf",
        "colab_type": "code",
        "colab": {
          "base_uri": "https://localhost:8080/",
          "height": 166
        },
        "outputId": "f6dac482-6572-4832-fe35-d76395d2a619"
      },
      "source": [
        "b = {{1,2,3,4,5,'human'},{1,2,3,4,5,'human'}}"
      ],
      "execution_count": null,
      "outputs": [
        {
          "output_type": "error",
          "ename": "TypeError",
          "evalue": "ignored",
          "traceback": [
            "\u001b[0;31m---------------------------------------------------------------------------\u001b[0m",
            "\u001b[0;31mTypeError\u001b[0m                                 Traceback (most recent call last)",
            "\u001b[0;32m<ipython-input-5-a4634f07a998>\u001b[0m in \u001b[0;36m<module>\u001b[0;34m()\u001b[0m\n\u001b[0;32m----> 1\u001b[0;31m \u001b[0mb\u001b[0m \u001b[0;34m=\u001b[0m \u001b[0;34m{\u001b[0m\u001b[0;34m{\u001b[0m\u001b[0;36m1\u001b[0m\u001b[0;34m,\u001b[0m\u001b[0;36m2\u001b[0m\u001b[0;34m,\u001b[0m\u001b[0;36m3\u001b[0m\u001b[0;34m,\u001b[0m\u001b[0;36m4\u001b[0m\u001b[0;34m,\u001b[0m\u001b[0;36m5\u001b[0m\u001b[0;34m,\u001b[0m\u001b[0;34m'human'\u001b[0m\u001b[0;34m}\u001b[0m\u001b[0;34m,\u001b[0m\u001b[0;34m{\u001b[0m\u001b[0;36m1\u001b[0m\u001b[0;34m,\u001b[0m\u001b[0;36m2\u001b[0m\u001b[0;34m,\u001b[0m\u001b[0;36m3\u001b[0m\u001b[0;34m,\u001b[0m\u001b[0;36m4\u001b[0m\u001b[0;34m,\u001b[0m\u001b[0;36m5\u001b[0m\u001b[0;34m,\u001b[0m\u001b[0;34m'human'\u001b[0m\u001b[0;34m}\u001b[0m\u001b[0;34m}\u001b[0m\u001b[0;34m\u001b[0m\u001b[0;34m\u001b[0m\u001b[0m\n\u001b[0m",
            "\u001b[0;31mTypeError\u001b[0m: unhashable type: 'set'"
          ]
        }
      ]
    },
    {
      "cell_type": "code",
      "metadata": {
        "id": "ICRlYUdsKaZJ",
        "colab_type": "code",
        "colab": {
          "base_uri": "https://localhost:8080/",
          "height": 166
        },
        "outputId": "002b9145-d7f4-4d76-9a4c-fde6b74208bc"
      },
      "source": [
        "b = {[1,2,3,4,5,'human'],[1,2,3,4,5,'human']}"
      ],
      "execution_count": null,
      "outputs": [
        {
          "output_type": "error",
          "ename": "TypeError",
          "evalue": "ignored",
          "traceback": [
            "\u001b[0;31m---------------------------------------------------------------------------\u001b[0m",
            "\u001b[0;31mTypeError\u001b[0m                                 Traceback (most recent call last)",
            "\u001b[0;32m<ipython-input-6-c63794bb4bfa>\u001b[0m in \u001b[0;36m<module>\u001b[0;34m()\u001b[0m\n\u001b[0;32m----> 1\u001b[0;31m \u001b[0mb\u001b[0m \u001b[0;34m=\u001b[0m \u001b[0;34m{\u001b[0m\u001b[0;34m[\u001b[0m\u001b[0;36m1\u001b[0m\u001b[0;34m,\u001b[0m\u001b[0;36m2\u001b[0m\u001b[0;34m,\u001b[0m\u001b[0;36m3\u001b[0m\u001b[0;34m,\u001b[0m\u001b[0;36m4\u001b[0m\u001b[0;34m,\u001b[0m\u001b[0;36m5\u001b[0m\u001b[0;34m,\u001b[0m\u001b[0;34m'human'\u001b[0m\u001b[0;34m]\u001b[0m\u001b[0;34m,\u001b[0m\u001b[0;34m[\u001b[0m\u001b[0;36m1\u001b[0m\u001b[0;34m,\u001b[0m\u001b[0;36m2\u001b[0m\u001b[0;34m,\u001b[0m\u001b[0;36m3\u001b[0m\u001b[0;34m,\u001b[0m\u001b[0;36m4\u001b[0m\u001b[0;34m,\u001b[0m\u001b[0;36m5\u001b[0m\u001b[0;34m,\u001b[0m\u001b[0;34m'human'\u001b[0m\u001b[0;34m]\u001b[0m\u001b[0;34m}\u001b[0m\u001b[0;34m\u001b[0m\u001b[0;34m\u001b[0m\u001b[0m\n\u001b[0m",
            "\u001b[0;31mTypeError\u001b[0m: unhashable type: 'list'"
          ]
        }
      ]
    },
    {
      "cell_type": "code",
      "metadata": {
        "id": "vUFv0YwwKW52",
        "colab_type": "code",
        "colab": {}
      },
      "source": [
        "b = {(1,2,3,4,5,'human'),(1,2,3,4,5,'human')}\n",
        "#hashable type: 'tuple'"
      ],
      "execution_count": null,
      "outputs": []
    },
    {
      "cell_type": "code",
      "metadata": {
        "id": "bl2YJzwuLOMl",
        "colab_type": "code",
        "colab": {
          "base_uri": "https://localhost:8080/",
          "height": 166
        },
        "outputId": "7803888e-ab16-45e4-e77d-100b3e06c8c5"
      },
      "source": [
        "b = {{1,2,3,4,5,'human'},(1,2,3,4,5,'human')}"
      ],
      "execution_count": null,
      "outputs": [
        {
          "output_type": "error",
          "ename": "TypeError",
          "evalue": "ignored",
          "traceback": [
            "\u001b[0;31m---------------------------------------------------------------------------\u001b[0m",
            "\u001b[0;31mTypeError\u001b[0m                                 Traceback (most recent call last)",
            "\u001b[0;32m<ipython-input-8-c5297b0c084d>\u001b[0m in \u001b[0;36m<module>\u001b[0;34m()\u001b[0m\n\u001b[0;32m----> 1\u001b[0;31m \u001b[0mb\u001b[0m \u001b[0;34m=\u001b[0m \u001b[0;34m{\u001b[0m\u001b[0;34m{\u001b[0m\u001b[0;36m1\u001b[0m\u001b[0;34m,\u001b[0m\u001b[0;36m2\u001b[0m\u001b[0;34m,\u001b[0m\u001b[0;36m3\u001b[0m\u001b[0;34m,\u001b[0m\u001b[0;36m4\u001b[0m\u001b[0;34m,\u001b[0m\u001b[0;36m5\u001b[0m\u001b[0;34m,\u001b[0m\u001b[0;34m'human'\u001b[0m\u001b[0;34m}\u001b[0m\u001b[0;34m,\u001b[0m\u001b[0;34m(\u001b[0m\u001b[0;36m1\u001b[0m\u001b[0;34m,\u001b[0m\u001b[0;36m2\u001b[0m\u001b[0;34m,\u001b[0m\u001b[0;36m3\u001b[0m\u001b[0;34m,\u001b[0m\u001b[0;36m4\u001b[0m\u001b[0;34m,\u001b[0m\u001b[0;36m5\u001b[0m\u001b[0;34m,\u001b[0m\u001b[0;34m'human'\u001b[0m\u001b[0;34m)\u001b[0m\u001b[0;34m}\u001b[0m\u001b[0;34m\u001b[0m\u001b[0;34m\u001b[0m\u001b[0m\n\u001b[0m",
            "\u001b[0;31mTypeError\u001b[0m: unhashable type: 'set'"
          ]
        }
      ]
    },
    {
      "cell_type": "code",
      "metadata": {
        "id": "ReI50nyTLOPi",
        "colab_type": "code",
        "colab": {
          "base_uri": "https://localhost:8080/",
          "height": 166
        },
        "outputId": "9489c26b-3e8d-4b8f-c22d-9c5af19b0226"
      },
      "source": [
        "b = {[1,2,3,4,5,'human'],(1,2,3,4,5,'human')}"
      ],
      "execution_count": null,
      "outputs": [
        {
          "output_type": "error",
          "ename": "TypeError",
          "evalue": "ignored",
          "traceback": [
            "\u001b[0;31m---------------------------------------------------------------------------\u001b[0m",
            "\u001b[0;31mTypeError\u001b[0m                                 Traceback (most recent call last)",
            "\u001b[0;32m<ipython-input-9-9f004d2871df>\u001b[0m in \u001b[0;36m<module>\u001b[0;34m()\u001b[0m\n\u001b[0;32m----> 1\u001b[0;31m \u001b[0mb\u001b[0m \u001b[0;34m=\u001b[0m \u001b[0;34m{\u001b[0m\u001b[0;34m[\u001b[0m\u001b[0;36m1\u001b[0m\u001b[0;34m,\u001b[0m\u001b[0;36m2\u001b[0m\u001b[0;34m,\u001b[0m\u001b[0;36m3\u001b[0m\u001b[0;34m,\u001b[0m\u001b[0;36m4\u001b[0m\u001b[0;34m,\u001b[0m\u001b[0;36m5\u001b[0m\u001b[0;34m,\u001b[0m\u001b[0;34m'human'\u001b[0m\u001b[0;34m]\u001b[0m\u001b[0;34m,\u001b[0m\u001b[0;34m(\u001b[0m\u001b[0;36m1\u001b[0m\u001b[0;34m,\u001b[0m\u001b[0;36m2\u001b[0m\u001b[0;34m,\u001b[0m\u001b[0;36m3\u001b[0m\u001b[0;34m,\u001b[0m\u001b[0;36m4\u001b[0m\u001b[0;34m,\u001b[0m\u001b[0;36m5\u001b[0m\u001b[0;34m,\u001b[0m\u001b[0;34m'human'\u001b[0m\u001b[0;34m)\u001b[0m\u001b[0;34m}\u001b[0m\u001b[0;34m\u001b[0m\u001b[0;34m\u001b[0m\u001b[0m\n\u001b[0m",
            "\u001b[0;31mTypeError\u001b[0m: unhashable type: 'list'"
          ]
        }
      ]
    },
    {
      "cell_type": "code",
      "metadata": {
        "id": "EgYo6n__LtKA",
        "colab_type": "code",
        "colab": {
          "base_uri": "https://localhost:8080/",
          "height": 166
        },
        "outputId": "ffa010eb-eddb-4b08-e955-52e616a03125"
      },
      "source": [
        "b = {[1,2,3,4,5,'human'],{1,2,3,4,5,'human'}}"
      ],
      "execution_count": null,
      "outputs": [
        {
          "output_type": "error",
          "ename": "TypeError",
          "evalue": "ignored",
          "traceback": [
            "\u001b[0;31m---------------------------------------------------------------------------\u001b[0m",
            "\u001b[0;31mTypeError\u001b[0m                                 Traceback (most recent call last)",
            "\u001b[0;32m<ipython-input-11-f5005e8fefa6>\u001b[0m in \u001b[0;36m<module>\u001b[0;34m()\u001b[0m\n\u001b[0;32m----> 1\u001b[0;31m \u001b[0mb\u001b[0m \u001b[0;34m=\u001b[0m \u001b[0;34m{\u001b[0m\u001b[0;34m[\u001b[0m\u001b[0;36m1\u001b[0m\u001b[0;34m,\u001b[0m\u001b[0;36m2\u001b[0m\u001b[0;34m,\u001b[0m\u001b[0;36m3\u001b[0m\u001b[0;34m,\u001b[0m\u001b[0;36m4\u001b[0m\u001b[0;34m,\u001b[0m\u001b[0;36m5\u001b[0m\u001b[0;34m,\u001b[0m\u001b[0;34m'human'\u001b[0m\u001b[0;34m]\u001b[0m\u001b[0;34m,\u001b[0m\u001b[0;34m{\u001b[0m\u001b[0;36m1\u001b[0m\u001b[0;34m,\u001b[0m\u001b[0;36m2\u001b[0m\u001b[0;34m,\u001b[0m\u001b[0;36m3\u001b[0m\u001b[0;34m,\u001b[0m\u001b[0;36m4\u001b[0m\u001b[0;34m,\u001b[0m\u001b[0;36m5\u001b[0m\u001b[0;34m,\u001b[0m\u001b[0;34m'human'\u001b[0m\u001b[0;34m}\u001b[0m\u001b[0;34m}\u001b[0m\u001b[0;34m\u001b[0m\u001b[0;34m\u001b[0m\u001b[0m\n\u001b[0m",
            "\u001b[0;31mTypeError\u001b[0m: unhashable type: 'list'"
          ]
        }
      ]
    },
    {
      "cell_type": "code",
      "metadata": {
        "id": "yIKCmY7hL79c",
        "colab_type": "code",
        "colab": {
          "base_uri": "https://localhost:8080/",
          "height": 35
        },
        "outputId": "feeb43c0-37a9-49bf-fc82-c15dde8f0d78"
      },
      "source": [
        "#ORDER OF ELEMENTS IN SET DONT MATTER\n",
        "a = {2,7,4,2,5,9,7,5}\n",
        "a"
      ],
      "execution_count": null,
      "outputs": [
        {
          "output_type": "execute_result",
          "data": {
            "text/plain": [
              "{2, 4, 5, 7, 9}"
            ]
          },
          "metadata": {
            "tags": []
          },
          "execution_count": 12
        }
      ]
    },
    {
      "cell_type": "code",
      "metadata": {
        "id": "neW0PndqMTLn",
        "colab_type": "code",
        "colab": {
          "base_uri": "https://localhost:8080/",
          "height": 35
        },
        "outputId": "3c1bb019-6d88-4a07-d179-2b3e327046cb"
      },
      "source": [
        "b = {7,2,2,9,5,7,5,4}\n",
        "b\n",
        "#evidently a = b\n",
        "#Set does not support indexing, that is why order doesnt matter. "
      ],
      "execution_count": null,
      "outputs": [
        {
          "output_type": "execute_result",
          "data": {
            "text/plain": [
              "{2, 4, 5, 7, 9}"
            ]
          },
          "metadata": {
            "tags": []
          },
          "execution_count": 13
        }
      ]
    },
    {
      "cell_type": "code",
      "metadata": {
        "id": "tP4nWpWIMgNY",
        "colab_type": "code",
        "colab": {
          "base_uri": "https://localhost:8080/",
          "height": 52
        },
        "outputId": "2f6a9121-bd15-4707-efbb-183ffa45c6a4"
      },
      "source": [
        "astr = {'a','b','c'}\n",
        "bstr = {'b','c','a'}\n",
        "print(astr)\n",
        "print(bstr)\n",
        "\n",
        "#again astr = bstr "
      ],
      "execution_count": null,
      "outputs": [
        {
          "output_type": "stream",
          "text": [
            "{'a', 'c', 'b'}\n",
            "{'a', 'c', 'b'}\n"
          ],
          "name": "stdout"
        }
      ]
    },
    {
      "cell_type": "code",
      "metadata": {
        "id": "EL9r2brtMgPh",
        "colab_type": "code",
        "colab": {
          "base_uri": "https://localhost:8080/",
          "height": 35
        },
        "outputId": "21a99e84-38ad-4213-a684-65dd0d17ef3a"
      },
      "source": [
        "#If one or many elements of a set are repeated, the set remains the same.\n",
        "asm = {2,2,2,2,2,2,3}\n",
        "asm\n",
        "\n"
      ],
      "execution_count": null,
      "outputs": [
        {
          "output_type": "execute_result",
          "data": {
            "text/plain": [
              "{2, 3}"
            ]
          },
          "metadata": {
            "tags": []
          },
          "execution_count": 15
        }
      ]
    },
    {
      "cell_type": "code",
      "metadata": {
        "id": "EsFD4ewTMgSp",
        "colab_type": "code",
        "colab": {
          "base_uri": "https://localhost:8080/",
          "height": 235
        },
        "outputId": "38902c39-7310-4e3c-e0d9-051a66160e99"
      },
      "source": [
        "#A set itself may be modified, but the elements contained in the set must be of an immutable type.\n",
        "# we saw the examples of lists, sets and tuples above. Below is the example of a dictionary.\n",
        "\n",
        "a = {{\"key\":\"value\",\"key2\":\"value2\"},{\"num\":\"ans\",\"num2\":\"ans2\"}}\n",
        "a\n",
        "\n",
        "#as dict too is mutable. \n",
        "\n"
      ],
      "execution_count": null,
      "outputs": [
        {
          "output_type": "error",
          "ename": "TypeError",
          "evalue": "ignored",
          "traceback": [
            "\u001b[0;31m---------------------------------------------------------------------------\u001b[0m",
            "\u001b[0;31mTypeError\u001b[0m                                 Traceback (most recent call last)",
            "\u001b[0;32m<ipython-input-17-ac872d3a1068>\u001b[0m in \u001b[0;36m<module>\u001b[0;34m()\u001b[0m\n\u001b[1;32m      2\u001b[0m \u001b[0;31m# we saw the examples of lists, sets and tuples above. Below is the example of a dictionary.\u001b[0m\u001b[0;34m\u001b[0m\u001b[0;34m\u001b[0m\u001b[0;34m\u001b[0m\u001b[0m\n\u001b[1;32m      3\u001b[0m \u001b[0;34m\u001b[0m\u001b[0m\n\u001b[0;32m----> 4\u001b[0;31m \u001b[0ma\u001b[0m \u001b[0;34m=\u001b[0m \u001b[0;34m{\u001b[0m\u001b[0;34m{\u001b[0m\u001b[0;34m\"key\"\u001b[0m\u001b[0;34m:\u001b[0m\u001b[0;34m\"value\"\u001b[0m\u001b[0;34m,\u001b[0m\u001b[0;34m\"key2\"\u001b[0m\u001b[0;34m:\u001b[0m\u001b[0;34m\"value2\"\u001b[0m\u001b[0;34m}\u001b[0m\u001b[0;34m,\u001b[0m\u001b[0;34m{\u001b[0m\u001b[0;34m\"num\"\u001b[0m\u001b[0;34m:\u001b[0m\u001b[0;34m\"ans\"\u001b[0m\u001b[0;34m,\u001b[0m\u001b[0;34m\"num2\"\u001b[0m\u001b[0;34m:\u001b[0m\u001b[0;34m\"ans2\"\u001b[0m\u001b[0;34m}\u001b[0m\u001b[0;34m}\u001b[0m\u001b[0;34m\u001b[0m\u001b[0;34m\u001b[0m\u001b[0m\n\u001b[0m\u001b[1;32m      5\u001b[0m \u001b[0ma\u001b[0m\u001b[0;34m\u001b[0m\u001b[0;34m\u001b[0m\u001b[0m\n\u001b[1;32m      6\u001b[0m \u001b[0;34m\u001b[0m\u001b[0m\n",
            "\u001b[0;31mTypeError\u001b[0m: unhashable type: 'dict'"
          ]
        }
      ]
    },
    {
      "cell_type": "markdown",
      "metadata": {
        "id": "gqDo1YdzN4-8",
        "colab_type": "text"
      },
      "source": [
        "int, float, bool, string, unicode, tuple are all immutable and hence can form a set. Examples are below. "
      ]
    },
    {
      "cell_type": "code",
      "metadata": {
        "id": "R-K316hHMgW6",
        "colab_type": "code",
        "colab": {}
      },
      "source": [
        "set_int = {1,2,3,4,5}\n",
        "set_float = {1.1,2.2,3.3,4.4,5.5}\n",
        "set_bool = {True, False, False, True}\n",
        "set_string = {'hey','my','name','is','kopal'}\n",
        "set_unicode = {0x265e} \n",
        "set_tuple = {(1,2),(3,4),(1,2,3,4)}"
      ],
      "execution_count": null,
      "outputs": []
    },
    {
      "cell_type": "code",
      "metadata": {
        "id": "qXYn6k-pPvH1",
        "colab_type": "code",
        "colab": {
          "base_uri": "https://localhost:8080/",
          "height": 35
        },
        "outputId": "5eebe934-63eb-458b-91f8-798dc34fdd87"
      },
      "source": [
        "#accessing elements of set \n",
        "accset = {1,2,3,4,5,5,6}\n",
        "accset.pop()"
      ],
      "execution_count": null,
      "outputs": [
        {
          "output_type": "execute_result",
          "data": {
            "text/plain": [
              "1"
            ]
          },
          "metadata": {
            "tags": []
          },
          "execution_count": 27
        }
      ]
    },
    {
      "cell_type": "code",
      "metadata": {
        "id": "0f8zX8yFQjeu",
        "colab_type": "code",
        "colab": {
          "base_uri": "https://localhost:8080/",
          "height": 35
        },
        "outputId": "b282abb3-e6ac-48e6-f0a3-0fd47dd0bf37"
      },
      "source": [
        "accset.pop()"
      ],
      "execution_count": null,
      "outputs": [
        {
          "output_type": "execute_result",
          "data": {
            "text/plain": [
              "2"
            ]
          },
          "metadata": {
            "tags": []
          },
          "execution_count": 29
        }
      ]
    },
    {
      "cell_type": "code",
      "metadata": {
        "id": "dY7uph4dQwoJ",
        "colab_type": "code",
        "colab": {
          "base_uri": "https://localhost:8080/",
          "height": 35
        },
        "outputId": "eef2af7f-2df1-4c88-a0a1-ed47a986cc30"
      },
      "source": [
        "accset.pop()\n",
        "accset"
      ],
      "execution_count": null,
      "outputs": [
        {
          "output_type": "execute_result",
          "data": {
            "text/plain": [
              "{5, 6}"
            ]
          },
          "metadata": {
            "tags": []
          },
          "execution_count": 32
        }
      ]
    },
    {
      "cell_type": "markdown",
      "metadata": {
        "id": "5Qd560CqSf4y",
        "colab_type": "text"
      },
      "source": [
        "Pop element pops out an \"arbitary\" element of the set. \n"
      ]
    },
    {
      "cell_type": "code",
      "metadata": {
        "id": "Y7c1eGP1Q7l8",
        "colab_type": "code",
        "colab": {
          "base_uri": "https://localhost:8080/",
          "height": 52
        },
        "outputId": "ee103ce6-d5af-4bfe-fe25-95fd9fc184b9"
      },
      "source": [
        "for x in accset:\n",
        "  print(x)"
      ],
      "execution_count": null,
      "outputs": [
        {
          "output_type": "stream",
          "text": [
            "5\n",
            "6\n"
          ],
          "name": "stdout"
        }
      ]
    },
    {
      "cell_type": "code",
      "metadata": {
        "id": "j3CgMlJoTQPU",
        "colab_type": "code",
        "colab": {
          "base_uri": "https://localhost:8080/",
          "height": 35
        },
        "outputId": "fe2893c4-e5ff-45c3-fc5e-3a3e4416eb82"
      },
      "source": [
        "b = {'hey','my','name'}\n",
        "b"
      ],
      "execution_count": null,
      "outputs": [
        {
          "output_type": "execute_result",
          "data": {
            "text/plain": [
              "{'hey', 'my', 'name'}"
            ]
          },
          "metadata": {
            "tags": []
          },
          "execution_count": 40
        }
      ]
    },
    {
      "cell_type": "code",
      "metadata": {
        "id": "AFPCnavAQ7vz",
        "colab_type": "code",
        "colab": {
          "base_uri": "https://localhost:8080/",
          "height": 35
        },
        "outputId": "35e476cb-5912-4ce9-b3b1-f2359e3648f3"
      },
      "source": [
        "b = {'hey','my','name'}\n",
        "b.pop()"
      ],
      "execution_count": null,
      "outputs": [
        {
          "output_type": "execute_result",
          "data": {
            "application/vnd.google.colaboratory.intrinsic": {
              "type": "string"
            },
            "text/plain": [
              "'hey'"
            ]
          },
          "metadata": {
            "tags": []
          },
          "execution_count": 37
        }
      ]
    },
    {
      "cell_type": "code",
      "metadata": {
        "id": "Z0Z5zmc9SuTr",
        "colab_type": "code",
        "colab": {
          "base_uri": "https://localhost:8080/",
          "height": 35
        },
        "outputId": "7572fada-c1d8-42e8-8461-1101a8f7c38b"
      },
      "source": [
        "b.pop()"
      ],
      "execution_count": null,
      "outputs": [
        {
          "output_type": "execute_result",
          "data": {
            "application/vnd.google.colaboratory.intrinsic": {
              "type": "string"
            },
            "text/plain": [
              "'name'"
            ]
          },
          "metadata": {
            "tags": []
          },
          "execution_count": 39
        }
      ]
    },
    {
      "cell_type": "markdown",
      "metadata": {
        "id": "6e2h45Y6Szul",
        "colab_type": "text"
      },
      "source": [
        "Can clearly view above how arbitary the pop function works. "
      ]
    },
    {
      "cell_type": "code",
      "metadata": {
        "id": "Q8zgdeZuCImj",
        "colab_type": "code",
        "colab": {
          "base_uri": "https://localhost:8080/",
          "height": 131
        },
        "outputId": "69c246d4-7d4c-485b-8f3e-d7211958d4c0"
      },
      "source": [
        "#google colab handles indentation \n",
        " a=5 \n",
        "b = 6"
      ],
      "execution_count": null,
      "outputs": [
        {
          "output_type": "error",
          "ename": "IndentationError",
          "evalue": "ignored",
          "traceback": [
            "\u001b[0;36m  File \u001b[0;32m\"<ipython-input-1-a24fdf216171>\"\u001b[0;36m, line \u001b[0;32m2\u001b[0m\n\u001b[0;31m    a=5\u001b[0m\n\u001b[0m    ^\u001b[0m\n\u001b[0;31mIndentationError\u001b[0m\u001b[0;31m:\u001b[0m unexpected indent\n"
          ]
        }
      ]
    },
    {
      "cell_type": "code",
      "metadata": {
        "id": "rYgSPuNwCIww",
        "colab_type": "code",
        "colab": {}
      },
      "source": [
        "def printer():\n",
        "  print(a+b)\n",
        "\n",
        "def prin(a,b):\n",
        "  print(a+b)"
      ],
      "execution_count": null,
      "outputs": []
    },
    {
      "cell_type": "code",
      "metadata": {
        "id": "J7JsvizxCI62",
        "colab_type": "code",
        "colab": {}
      },
      "source": [
        "a_ = 4\n",
        "__a__ = \n",
        "\n",
        "a = 6\n",
        "_a = 9 #variable is intended for internal use (private variables)\n",
        "__a = 91"
      ],
      "execution_count": null,
      "outputs": []
    },
    {
      "cell_type": "code",
      "metadata": {
        "id": "HQrExvwgIx-q",
        "colab_type": "code",
        "colab": {}
      },
      "source": [
        "def make_a(a,class_):\n",
        "  pass\n",
        "\n",
        "#whenever we need to use a keyword which is a reserved keyword such as class, we can use it by just following it with an underscore "
      ],
      "execution_count": null,
      "outputs": []
    },
    {
      "cell_type": "code",
      "metadata": {
        "id": "EPNpzEu8HbAG",
        "colab_type": "code",
        "colab": {}
      },
      "source": [
        "#private and public variable\n",
        "\n",
        "class human:\n",
        "  \"\"\" Members of a class \"\"\"\n",
        "  #attribute - variables - compulsory \n",
        "  # method/behaviour - function - compulsory \n",
        "  \n",
        "\n",
        "\n"
      ],
      "execution_count": null,
      "outputs": []
    },
    {
      "cell_type": "code",
      "metadata": {
        "id": "K7pRob-0N3jj",
        "colab_type": "code",
        "colab": {
          "base_uri": "https://localhost:8080/",
          "height": 35
        },
        "outputId": "61e604b5-4b3b-47ea-e3ba-64df2cb41688"
      },
      "source": [
        "class Student:\n",
        "  #__name = self.__name\n",
        "  def __init__(self,name):\n",
        "    self.__name  = name\n",
        "\n",
        "  def displayName(self):\n",
        "    print(self.__name)\n",
        "\n",
        "#Class vs Object \n",
        "s1 = Student(\"Santhosh\")\n",
        "s1.displayName\n",
        "\n",
        "#Raises an error \n",
        "print(s1._Student__name)"
      ],
      "execution_count": null,
      "outputs": [
        {
          "output_type": "stream",
          "text": [
            "Santhosh\n"
          ],
          "name": "stdout"
        }
      ]
    },
    {
      "cell_type": "code",
      "metadata": {
        "id": "8WK5bZP1V1gN",
        "colab_type": "code",
        "colab": {}
      },
      "source": [
        "class student1(Student):\n",
        "  '''\n",
        "  def __init__(self,name):\n",
        "    print(self.a)\n",
        "    print(self._student1__name)\n",
        "  '''"
      ],
      "execution_count": null,
      "outputs": []
    },
    {
      "cell_type": "code",
      "metadata": {
        "id": "Tx0oMpgZWFYM",
        "colab_type": "code",
        "colab": {}
      },
      "source": [
        "s2 = student1(\"Santhosh\")\n"
      ],
      "execution_count": null,
      "outputs": []
    },
    {
      "cell_type": "code",
      "metadata": {
        "id": "R5j29aCHXxb0",
        "colab_type": "code",
        "colab": {
          "base_uri": "https://localhost:8080/",
          "height": 35
        },
        "outputId": "c7345cd1-c848-4f8e-f4d4-404a91d4ee7a"
      },
      "source": [
        "s2.displayName()"
      ],
      "execution_count": null,
      "outputs": [
        {
          "output_type": "stream",
          "text": [
            "Santhosh\n"
          ],
          "name": "stdout"
        }
      ]
    },
    {
      "cell_type": "code",
      "metadata": {
        "id": "6fYn2BoFYVTH",
        "colab_type": "code",
        "colab": {
          "base_uri": "https://localhost:8080/",
          "height": 35
        },
        "outputId": "09146f5b-d43a-42e0-d34e-2d98808de17c"
      },
      "source": [
        "s2._Student__name"
      ],
      "execution_count": null,
      "outputs": [
        {
          "output_type": "execute_result",
          "data": {
            "application/vnd.google.colaboratory.intrinsic": {
              "type": "string"
            },
            "text/plain": [
              "'Santhosh'"
            ]
          },
          "metadata": {
            "tags": []
          },
          "execution_count": 37
        }
      ]
    },
    {
      "cell_type": "code",
      "metadata": {
        "id": "w0Tr0JoDP68L",
        "colab_type": "code",
        "colab": {
          "base_uri": "https://localhost:8080/",
          "height": 485
        },
        "outputId": "6b13fc33-c9a4-40d4-d5c6-feb55f289444"
      },
      "source": [
        "dir(Student)"
      ],
      "execution_count": null,
      "outputs": [
        {
          "output_type": "execute_result",
          "data": {
            "text/plain": [
              "['__class__',\n",
              " '__delattr__',\n",
              " '__dict__',\n",
              " '__dir__',\n",
              " '__doc__',\n",
              " '__eq__',\n",
              " '__format__',\n",
              " '__ge__',\n",
              " '__getattribute__',\n",
              " '__gt__',\n",
              " '__hash__',\n",
              " '__init__',\n",
              " '__init_subclass__',\n",
              " '__le__',\n",
              " '__lt__',\n",
              " '__module__',\n",
              " '__ne__',\n",
              " '__new__',\n",
              " '__reduce__',\n",
              " '__reduce_ex__',\n",
              " '__repr__',\n",
              " '__setattr__',\n",
              " '__sizeof__',\n",
              " '__str__',\n",
              " '__subclasshook__',\n",
              " '__weakref__',\n",
              " 'displayName']"
            ]
          },
          "metadata": {
            "tags": []
          },
          "execution_count": 10
        }
      ]
    },
    {
      "cell_type": "code",
      "metadata": {
        "id": "_sz2eI-0HI4D",
        "colab_type": "code",
        "colab": {}
      },
      "source": [
        "#pep 8 style guide ---> beautification of code, how to write neat code"
      ],
      "execution_count": null,
      "outputs": []
    },
    {
      "cell_type": "code",
      "metadata": {
        "id": "JRyP0MUqCJGe",
        "colab_type": "code",
        "colab": {
          "base_uri": "https://localhost:8080/",
          "height": 35
        },
        "outputId": "1ed1449d-25bd-4def-e2b3-b8a35a1cefda"
      },
      "source": [
        "float(int('111',3))"
      ],
      "execution_count": null,
      "outputs": [
        {
          "output_type": "execute_result",
          "data": {
            "text/plain": [
              "13.0"
            ]
          },
          "metadata": {
            "tags": []
          },
          "execution_count": 3
        }
      ]
    },
    {
      "cell_type": "code",
      "metadata": {
        "id": "y1v0DI_hCJPl",
        "colab_type": "code",
        "colab": {
          "base_uri": "https://localhost:8080/",
          "height": 1000
        },
        "outputId": "91f3ff8f-0fbb-4789-c346-4c2ab18f7e1e"
      },
      "source": [
        "help(\"traceback\")"
      ],
      "execution_count": null,
      "outputs": [
        {
          "output_type": "stream",
          "text": [
            "Help on module traceback:\n",
            "\n",
            "NAME\n",
            "    traceback - Extract, format and print information about Python stack traces.\n",
            "\n",
            "MODULE REFERENCE\n",
            "    https://docs.python.org/3.6/library/traceback\n",
            "    \n",
            "    The following documentation is automatically generated from the Python\n",
            "    source files.  It may be incomplete, incorrect or include features that\n",
            "    are considered implementation detail and may vary between Python\n",
            "    implementations.  When in doubt, consult the module reference at the\n",
            "    location listed above.\n",
            "\n",
            "CLASSES\n",
            "    builtins.list(builtins.object)\n",
            "        StackSummary\n",
            "    builtins.object\n",
            "        FrameSummary\n",
            "        TracebackException\n",
            "    \n",
            "    class FrameSummary(builtins.object)\n",
            "     |  A single frame from a traceback.\n",
            "     |  \n",
            "     |  - :attr:`filename` The filename for the frame.\n",
            "     |  - :attr:`lineno` The line within filename for the frame that was\n",
            "     |    active when the frame was captured.\n",
            "     |  - :attr:`name` The name of the function or method that was executing\n",
            "     |    when the frame was captured.\n",
            "     |  - :attr:`line` The text from the linecache module for the\n",
            "     |    of code that was running when the frame was captured.\n",
            "     |  - :attr:`locals` Either None if locals were not supplied, or a dict\n",
            "     |    mapping the name to the repr() of the variable.\n",
            "     |  \n",
            "     |  Methods defined here:\n",
            "     |  \n",
            "     |  __eq__(self, other)\n",
            "     |      Return self==value.\n",
            "     |  \n",
            "     |  __getitem__(self, pos)\n",
            "     |  \n",
            "     |  __init__(self, filename, lineno, name, *, lookup_line=True, locals=None, line=None)\n",
            "     |      Construct a FrameSummary.\n",
            "     |      \n",
            "     |      :param lookup_line: If True, `linecache` is consulted for the source\n",
            "     |          code line. Otherwise, the line will be looked up when first needed.\n",
            "     |      :param locals: If supplied the frame locals, which will be captured as\n",
            "     |          object representations.\n",
            "     |      :param line: If provided, use this instead of looking up the line in\n",
            "     |          the linecache.\n",
            "     |  \n",
            "     |  __iter__(self)\n",
            "     |  \n",
            "     |  __repr__(self)\n",
            "     |      Return repr(self).\n",
            "     |  \n",
            "     |  ----------------------------------------------------------------------\n",
            "     |  Data descriptors defined here:\n",
            "     |  \n",
            "     |  filename\n",
            "     |  \n",
            "     |  line\n",
            "     |  \n",
            "     |  lineno\n",
            "     |  \n",
            "     |  locals\n",
            "     |  \n",
            "     |  name\n",
            "     |  \n",
            "     |  ----------------------------------------------------------------------\n",
            "     |  Data and other attributes defined here:\n",
            "     |  \n",
            "     |  __hash__ = None\n",
            "    \n",
            "    class StackSummary(builtins.list)\n",
            "     |  A stack of frames.\n",
            "     |  \n",
            "     |  Method resolution order:\n",
            "     |      StackSummary\n",
            "     |      builtins.list\n",
            "     |      builtins.object\n",
            "     |  \n",
            "     |  Methods defined here:\n",
            "     |  \n",
            "     |  format(self)\n",
            "     |      Format the stack ready for printing.\n",
            "     |      \n",
            "     |      Returns a list of strings ready for printing.  Each string in the\n",
            "     |      resulting list corresponds to a single frame from the stack.\n",
            "     |      Each string ends in a newline; the strings may contain internal\n",
            "     |      newlines as well, for those items with source text lines.\n",
            "     |      \n",
            "     |      For long sequences of the same frame and line, the first few\n",
            "     |      repetitions are shown, followed by a summary line stating the exact\n",
            "     |      number of further repetitions.\n",
            "     |  \n",
            "     |  ----------------------------------------------------------------------\n",
            "     |  Class methods defined here:\n",
            "     |  \n",
            "     |  extract(frame_gen, *, limit=None, lookup_lines=True, capture_locals=False) from builtins.type\n",
            "     |      Create a StackSummary from a traceback or stack object.\n",
            "     |      \n",
            "     |      :param frame_gen: A generator that yields (frame, lineno) tuples to\n",
            "     |          include in the stack.\n",
            "     |      :param limit: None to include all frames or the number of frames to\n",
            "     |          include.\n",
            "     |      :param lookup_lines: If True, lookup lines for each frame immediately,\n",
            "     |          otherwise lookup is deferred until the frame is rendered.\n",
            "     |      :param capture_locals: If True, the local variables from each frame will\n",
            "     |          be captured as object representations into the FrameSummary.\n",
            "     |  \n",
            "     |  from_list(a_list) from builtins.type\n",
            "     |      Create a StackSummary object from a supplied list of\n",
            "     |      FrameSummary objects or old-style list of tuples.\n",
            "     |  \n",
            "     |  ----------------------------------------------------------------------\n",
            "     |  Data descriptors defined here:\n",
            "     |  \n",
            "     |  __dict__\n",
            "     |      dictionary for instance variables (if defined)\n",
            "     |  \n",
            "     |  __weakref__\n",
            "     |      list of weak references to the object (if defined)\n",
            "     |  \n",
            "     |  ----------------------------------------------------------------------\n",
            "     |  Methods inherited from builtins.list:\n",
            "     |  \n",
            "     |  __add__(self, value, /)\n",
            "     |      Return self+value.\n",
            "     |  \n",
            "     |  __contains__(self, key, /)\n",
            "     |      Return key in self.\n",
            "     |  \n",
            "     |  __delitem__(self, key, /)\n",
            "     |      Delete self[key].\n",
            "     |  \n",
            "     |  __eq__(self, value, /)\n",
            "     |      Return self==value.\n",
            "     |  \n",
            "     |  __ge__(self, value, /)\n",
            "     |      Return self>=value.\n",
            "     |  \n",
            "     |  __getattribute__(self, name, /)\n",
            "     |      Return getattr(self, name).\n",
            "     |  \n",
            "     |  __getitem__(...)\n",
            "     |      x.__getitem__(y) <==> x[y]\n",
            "     |  \n",
            "     |  __gt__(self, value, /)\n",
            "     |      Return self>value.\n",
            "     |  \n",
            "     |  __iadd__(self, value, /)\n",
            "     |      Implement self+=value.\n",
            "     |  \n",
            "     |  __imul__(self, value, /)\n",
            "     |      Implement self*=value.\n",
            "     |  \n",
            "     |  __init__(self, /, *args, **kwargs)\n",
            "     |      Initialize self.  See help(type(self)) for accurate signature.\n",
            "     |  \n",
            "     |  __iter__(self, /)\n",
            "     |      Implement iter(self).\n",
            "     |  \n",
            "     |  __le__(self, value, /)\n",
            "     |      Return self<=value.\n",
            "     |  \n",
            "     |  __len__(self, /)\n",
            "     |      Return len(self).\n",
            "     |  \n",
            "     |  __lt__(self, value, /)\n",
            "     |      Return self<value.\n",
            "     |  \n",
            "     |  __mul__(self, value, /)\n",
            "     |      Return self*value.\n",
            "     |  \n",
            "     |  __ne__(self, value, /)\n",
            "     |      Return self!=value.\n",
            "     |  \n",
            "     |  __new__(*args, **kwargs) from builtins.type\n",
            "     |      Create and return a new object.  See help(type) for accurate signature.\n",
            "     |  \n",
            "     |  __repr__(self, /)\n",
            "     |      Return repr(self).\n",
            "     |  \n",
            "     |  __reversed__(...)\n",
            "     |      L.__reversed__() -- return a reverse iterator over the list\n",
            "     |  \n",
            "     |  __rmul__(self, value, /)\n",
            "     |      Return value*self.\n",
            "     |  \n",
            "     |  __setitem__(self, key, value, /)\n",
            "     |      Set self[key] to value.\n",
            "     |  \n",
            "     |  __sizeof__(...)\n",
            "     |      L.__sizeof__() -- size of L in memory, in bytes\n",
            "     |  \n",
            "     |  append(...)\n",
            "     |      L.append(object) -> None -- append object to end\n",
            "     |  \n",
            "     |  clear(...)\n",
            "     |      L.clear() -> None -- remove all items from L\n",
            "     |  \n",
            "     |  copy(...)\n",
            "     |      L.copy() -> list -- a shallow copy of L\n",
            "     |  \n",
            "     |  count(...)\n",
            "     |      L.count(value) -> integer -- return number of occurrences of value\n",
            "     |  \n",
            "     |  extend(...)\n",
            "     |      L.extend(iterable) -> None -- extend list by appending elements from the iterable\n",
            "     |  \n",
            "     |  index(...)\n",
            "     |      L.index(value, [start, [stop]]) -> integer -- return first index of value.\n",
            "     |      Raises ValueError if the value is not present.\n",
            "     |  \n",
            "     |  insert(...)\n",
            "     |      L.insert(index, object) -- insert object before index\n",
            "     |  \n",
            "     |  pop(...)\n",
            "     |      L.pop([index]) -> item -- remove and return item at index (default last).\n",
            "     |      Raises IndexError if list is empty or index is out of range.\n",
            "     |  \n",
            "     |  remove(...)\n",
            "     |      L.remove(value) -> None -- remove first occurrence of value.\n",
            "     |      Raises ValueError if the value is not present.\n",
            "     |  \n",
            "     |  reverse(...)\n",
            "     |      L.reverse() -- reverse *IN PLACE*\n",
            "     |  \n",
            "     |  sort(...)\n",
            "     |      L.sort(key=None, reverse=False) -> None -- stable sort *IN PLACE*\n",
            "     |  \n",
            "     |  ----------------------------------------------------------------------\n",
            "     |  Data and other attributes inherited from builtins.list:\n",
            "     |  \n",
            "     |  __hash__ = None\n",
            "    \n",
            "    class TracebackException(builtins.object)\n",
            "     |  An exception ready for rendering.\n",
            "     |  \n",
            "     |  The traceback module captures enough attributes from the original exception\n",
            "     |  to this intermediary form to ensure that no references are held, while\n",
            "     |  still being able to fully print or format it.\n",
            "     |  \n",
            "     |  Use `from_exception` to create TracebackException instances from exception\n",
            "     |  objects, or the constructor to create TracebackException instances from\n",
            "     |  individual components.\n",
            "     |  \n",
            "     |  - :attr:`__cause__` A TracebackException of the original *__cause__*.\n",
            "     |  - :attr:`__context__` A TracebackException of the original *__context__*.\n",
            "     |  - :attr:`__suppress_context__` The *__suppress_context__* value from the\n",
            "     |    original exception.\n",
            "     |  - :attr:`stack` A `StackSummary` representing the traceback.\n",
            "     |  - :attr:`exc_type` The class of the original traceback.\n",
            "     |  - :attr:`filename` For syntax errors - the filename where the error\n",
            "     |    occurred.\n",
            "     |  - :attr:`lineno` For syntax errors - the linenumber where the error\n",
            "     |    occurred.\n",
            "     |  - :attr:`text` For syntax errors - the text where the error\n",
            "     |    occurred.\n",
            "     |  - :attr:`offset` For syntax errors - the offset into the text where the\n",
            "     |    error occurred.\n",
            "     |  - :attr:`msg` For syntax errors - the compiler error message.\n",
            "     |  \n",
            "     |  Methods defined here:\n",
            "     |  \n",
            "     |  __eq__(self, other)\n",
            "     |      Return self==value.\n",
            "     |  \n",
            "     |  __init__(self, exc_type, exc_value, exc_traceback, *, limit=None, lookup_lines=True, capture_locals=False, _seen=None)\n",
            "     |      Initialize self.  See help(type(self)) for accurate signature.\n",
            "     |  \n",
            "     |  __str__(self)\n",
            "     |      Return str(self).\n",
            "     |  \n",
            "     |  format(self, *, chain=True)\n",
            "     |      Format the exception.\n",
            "     |      \n",
            "     |      If chain is not *True*, *__cause__* and *__context__* will not be formatted.\n",
            "     |      \n",
            "     |      The return value is a generator of strings, each ending in a newline and\n",
            "     |      some containing internal newlines. `print_exception` is a wrapper around\n",
            "     |      this method which just prints the lines to a file.\n",
            "     |      \n",
            "     |      The message indicating which exception occurred is always the last\n",
            "     |      string in the output.\n",
            "     |  \n",
            "     |  format_exception_only(self)\n",
            "     |      Format the exception part of the traceback.\n",
            "     |      \n",
            "     |      The return value is a generator of strings, each ending in a newline.\n",
            "     |      \n",
            "     |      Normally, the generator emits a single string; however, for\n",
            "     |      SyntaxError exceptions, it emites several lines that (when\n",
            "     |      printed) display detailed information about where the syntax\n",
            "     |      error occurred.\n",
            "     |      \n",
            "     |      The message indicating which exception occurred is always the last\n",
            "     |      string in the output.\n",
            "     |  \n",
            "     |  ----------------------------------------------------------------------\n",
            "     |  Class methods defined here:\n",
            "     |  \n",
            "     |  from_exception(exc, *args, **kwargs) from builtins.type\n",
            "     |      Create a TracebackException from an exception.\n",
            "     |  \n",
            "     |  ----------------------------------------------------------------------\n",
            "     |  Data descriptors defined here:\n",
            "     |  \n",
            "     |  __dict__\n",
            "     |      dictionary for instance variables (if defined)\n",
            "     |  \n",
            "     |  __weakref__\n",
            "     |      list of weak references to the object (if defined)\n",
            "     |  \n",
            "     |  ----------------------------------------------------------------------\n",
            "     |  Data and other attributes defined here:\n",
            "     |  \n",
            "     |  __hash__ = None\n",
            "\n",
            "FUNCTIONS\n",
            "    clear_frames(tb)\n",
            "        Clear all references to local variables in the frames of a traceback.\n",
            "    \n",
            "    extract_stack(f=None, limit=None)\n",
            "        Extract the raw traceback from the current stack frame.\n",
            "        \n",
            "        The return value has the same format as for extract_tb().  The\n",
            "        optional 'f' and 'limit' arguments have the same meaning as for\n",
            "        print_stack().  Each item in the list is a quadruple (filename,\n",
            "        line number, function name, text), and the entries are in order\n",
            "        from oldest to newest stack frame.\n",
            "    \n",
            "    extract_tb(tb, limit=None)\n",
            "        Return a StackSummary object representing a list of\n",
            "        pre-processed entries from traceback.\n",
            "        \n",
            "        This is useful for alternate formatting of stack traces.  If\n",
            "        'limit' is omitted or None, all entries are extracted.  A\n",
            "        pre-processed stack trace entry is a FrameSummary object\n",
            "        containing attributes filename, lineno, name, and line\n",
            "        representing the information that is usually printed for a stack\n",
            "        trace.  The line is a string with leading and trailing\n",
            "        whitespace stripped; if the source is not available it is None.\n",
            "    \n",
            "    format_exc(limit=None, chain=True)\n",
            "        Like print_exc() but return a string.\n",
            "    \n",
            "    format_exception(etype, value, tb, limit=None, chain=True)\n",
            "        Format a stack trace and the exception information.\n",
            "        \n",
            "        The arguments have the same meaning as the corresponding arguments\n",
            "        to print_exception().  The return value is a list of strings, each\n",
            "        ending in a newline and some containing internal newlines.  When\n",
            "        these lines are concatenated and printed, exactly the same text is\n",
            "        printed as does print_exception().\n",
            "    \n",
            "    format_exception_only(etype, value)\n",
            "        Format the exception part of a traceback.\n",
            "        \n",
            "        The arguments are the exception type and value such as given by\n",
            "        sys.last_type and sys.last_value. The return value is a list of\n",
            "        strings, each ending in a newline.\n",
            "        \n",
            "        Normally, the list contains a single string; however, for\n",
            "        SyntaxError exceptions, it contains several lines that (when\n",
            "        printed) display detailed information about where the syntax\n",
            "        error occurred.\n",
            "        \n",
            "        The message indicating which exception occurred is always the last\n",
            "        string in the list.\n",
            "    \n",
            "    format_list(extracted_list)\n",
            "        Format a list of tuples or FrameSummary objects for printing.\n",
            "        \n",
            "        Given a list of tuples or FrameSummary objects as returned by\n",
            "        extract_tb() or extract_stack(), return a list of strings ready\n",
            "        for printing.\n",
            "        \n",
            "        Each string in the resulting list corresponds to the item with the\n",
            "        same index in the argument list.  Each string ends in a newline;\n",
            "        the strings may contain internal newlines as well, for those items\n",
            "        whose source text line is not None.\n",
            "    \n",
            "    format_stack(f=None, limit=None)\n",
            "        Shorthand for 'format_list(extract_stack(f, limit))'.\n",
            "    \n",
            "    format_tb(tb, limit=None)\n",
            "        A shorthand for 'format_list(extract_tb(tb, limit))'.\n",
            "    \n",
            "    print_exc(limit=None, file=None, chain=True)\n",
            "        Shorthand for 'print_exception(*sys.exc_info(), limit, file)'.\n",
            "    \n",
            "    print_exception(etype, value, tb, limit=None, file=None, chain=True)\n",
            "        Print exception up to 'limit' stack trace entries from 'tb' to 'file'.\n",
            "        \n",
            "        This differs from print_tb() in the following ways: (1) if\n",
            "        traceback is not None, it prints a header \"Traceback (most recent\n",
            "        call last):\"; (2) it prints the exception type and value after the\n",
            "        stack trace; (3) if type is SyntaxError and value has the\n",
            "        appropriate format, it prints the line where the syntax error\n",
            "        occurred with a caret on the next line indicating the approximate\n",
            "        position of the error.\n",
            "    \n",
            "    print_last(limit=None, file=None, chain=True)\n",
            "        This is a shorthand for 'print_exception(sys.last_type,\n",
            "        sys.last_value, sys.last_traceback, limit, file)'.\n",
            "    \n",
            "    print_stack(f=None, limit=None, file=None)\n",
            "        Print a stack trace from its invocation point.\n",
            "        \n",
            "        The optional 'f' argument can be used to specify an alternate\n",
            "        stack frame at which to start. The optional 'limit' and 'file'\n",
            "        arguments have the same meaning as for print_exception().\n",
            "    \n",
            "    print_tb(tb, limit=None, file=None)\n",
            "        Print up to 'limit' stack trace entries from the traceback 'tb'.\n",
            "        \n",
            "        If 'limit' is omitted or None, all entries are printed.  If 'file'\n",
            "        is omitted or None, the output goes to sys.stderr; otherwise\n",
            "        'file' should be an open file or file-like object with a write()\n",
            "        method.\n",
            "    \n",
            "    walk_stack(f)\n",
            "        Walk a stack yielding the frame and line number for each frame.\n",
            "        \n",
            "        This will follow f.f_back from the given frame. If no frame is given, the\n",
            "        current stack is used. Usually used with StackSummary.extract.\n",
            "    \n",
            "    walk_tb(tb)\n",
            "        Walk a traceback yielding the frame and line number for each frame.\n",
            "        \n",
            "        This will follow tb.tb_next (and thus is in the opposite order to\n",
            "        walk_stack). Usually used with StackSummary.extract.\n",
            "\n",
            "DATA\n",
            "    __all__ = ['extract_stack', 'extract_tb', 'format_exception', 'format_...\n",
            "\n",
            "FILE\n",
            "    /usr/lib/python3.6/traceback.py\n",
            "\n",
            "\n"
          ],
          "name": "stdout"
        }
      ]
    },
    {
      "cell_type": "code",
      "metadata": {
        "id": "eCl--_F2CJT4",
        "colab_type": "code",
        "colab": {}
      },
      "source": [
        "import pandas as pd\n",
        "lis=['a','b','c']\n",
        "a=pd.DataFrame(columns=lis)   "
      ],
      "execution_count": null,
      "outputs": []
    },
    {
      "cell_type": "code",
      "metadata": {
        "id": "jZGUvgGUCJNX",
        "colab_type": "code",
        "colab": {}
      },
      "source": [
        "a=pd.read_csv('https://people.sc.fsu.edu/~jburkardt/data/csv/addresses.csv')"
      ],
      "execution_count": null,
      "outputs": []
    },
    {
      "cell_type": "code",
      "metadata": {
        "id": "DarOQ92jCJEn",
        "colab_type": "code",
        "colab": {
          "base_uri": "https://localhost:8080/",
          "height": 202
        },
        "outputId": "f693067b-015e-4b92-8006-23d227a365a9"
      },
      "source": [
        "a.head()"
      ],
      "execution_count": null,
      "outputs": [
        {
          "output_type": "execute_result",
          "data": {
            "text/html": [
              "<div>\n",
              "<style scoped>\n",
              "    .dataframe tbody tr th:only-of-type {\n",
              "        vertical-align: middle;\n",
              "    }\n",
              "\n",
              "    .dataframe tbody tr th {\n",
              "        vertical-align: top;\n",
              "    }\n",
              "\n",
              "    .dataframe thead th {\n",
              "        text-align: right;\n",
              "    }\n",
              "</style>\n",
              "<table border=\"1\" class=\"dataframe\">\n",
              "  <thead>\n",
              "    <tr style=\"text-align: right;\">\n",
              "      <th></th>\n",
              "      <th>John</th>\n",
              "      <th>Doe</th>\n",
              "      <th>120 jefferson st.</th>\n",
              "      <th>Riverside</th>\n",
              "      <th>NJ</th>\n",
              "      <th>08075</th>\n",
              "    </tr>\n",
              "  </thead>\n",
              "  <tbody>\n",
              "    <tr>\n",
              "      <th>0</th>\n",
              "      <td>Jack</td>\n",
              "      <td>McGinnis</td>\n",
              "      <td>220 hobo Av.</td>\n",
              "      <td>Phila</td>\n",
              "      <td>PA</td>\n",
              "      <td>9119</td>\n",
              "    </tr>\n",
              "    <tr>\n",
              "      <th>1</th>\n",
              "      <td>John \"Da Man\"</td>\n",
              "      <td>Repici</td>\n",
              "      <td>120 Jefferson St.</td>\n",
              "      <td>Riverside</td>\n",
              "      <td>NJ</td>\n",
              "      <td>8075</td>\n",
              "    </tr>\n",
              "    <tr>\n",
              "      <th>2</th>\n",
              "      <td>Stephen</td>\n",
              "      <td>Tyler</td>\n",
              "      <td>7452 Terrace \"At the Plaza\" road</td>\n",
              "      <td>SomeTown</td>\n",
              "      <td>SD</td>\n",
              "      <td>91234</td>\n",
              "    </tr>\n",
              "    <tr>\n",
              "      <th>3</th>\n",
              "      <td>NaN</td>\n",
              "      <td>Blankman</td>\n",
              "      <td>NaN</td>\n",
              "      <td>SomeTown</td>\n",
              "      <td>SD</td>\n",
              "      <td>298</td>\n",
              "    </tr>\n",
              "    <tr>\n",
              "      <th>4</th>\n",
              "      <td>Joan \"the bone\", Anne</td>\n",
              "      <td>Jet</td>\n",
              "      <td>9th, at Terrace plc</td>\n",
              "      <td>Desert City</td>\n",
              "      <td>CO</td>\n",
              "      <td>123</td>\n",
              "    </tr>\n",
              "  </tbody>\n",
              "</table>\n",
              "</div>"
            ],
            "text/plain": [
              "                    John       Doe  ...   NJ  08075\n",
              "0                   Jack  McGinnis  ...   PA   9119\n",
              "1          John \"Da Man\"    Repici  ...   NJ   8075\n",
              "2                Stephen     Tyler  ...   SD  91234\n",
              "3                    NaN  Blankman  ...   SD    298\n",
              "4  Joan \"the bone\", Anne       Jet  ...   CO    123\n",
              "\n",
              "[5 rows x 6 columns]"
            ]
          },
          "metadata": {
            "tags": []
          },
          "execution_count": 47
        }
      ]
    },
    {
      "cell_type": "markdown",
      "metadata": {
        "id": "45H-YCwQw9Q6",
        "colab_type": "text"
      },
      "source": [
        "# **HOMEWORK**"
      ]
    },
    {
      "cell_type": "code",
      "metadata": {
        "id": "THactRXICJDY",
        "colab_type": "code",
        "colab": {}
      },
      "source": [
        "# Create a custom class DataRead to read csv file using pandas\n",
        "# Create a custom function RowSelect within the class to select any 2 rows of the the the dataframe\n",
        "# Create a sub class of DataRead1 as  DataRead2  that has function for correlation plots (using any lib for correlation plot)\n",
        "# Within DataRead2 also create a function to override the custom function of DataRead1 RowSelect to select 3 rows"
      ],
      "execution_count": null,
      "outputs": []
    }
  ]
}
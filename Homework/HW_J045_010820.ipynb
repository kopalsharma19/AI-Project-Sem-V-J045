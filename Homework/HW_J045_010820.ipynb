{
  "nbformat": 4,
  "nbformat_minor": 0,
  "metadata": {
    "colab": {
      "name": "HW_J045_010820.ipynb",
      "provenance": [],
      "collapsed_sections": [],
      "authorship_tag": "ABX9TyN8URtWO7KHnd6F48QosHlb",
      "include_colab_link": true
    },
    "kernelspec": {
      "name": "python3",
      "display_name": "Python 3"
    }
  },
  "cells": [
    {
      "cell_type": "markdown",
      "metadata": {
        "id": "view-in-github",
        "colab_type": "text"
      },
      "source": [
        "<a href=\"https://colab.research.google.com/github/kopalsharma19/AI-Project-Sem-V-J045/blob/master/Homework/HW_J045_010820.ipynb\" target=\"_parent\"><img src=\"https://colab.research.google.com/assets/colab-badge.svg\" alt=\"Open In Colab\"/></a>"
      ]
    },
    {
      "cell_type": "markdown",
      "metadata": {
        "id": "u6r5wcpqe7gs",
        "colab_type": "text"
      },
      "source": [
        "#Sherlock and Cost"
      ]
    },
    {
      "cell_type": "code",
      "metadata": {
        "id": "B_kp-iKxP9hl",
        "colab_type": "code",
        "colab": {}
      },
      "source": [
        "def cost(B,n):\n",
        "    mat = [[0 for col in range(0,2)] for row in range(0,100000)]\n",
        "    for i in range(1,n):\n",
        "\n",
        "        mat[i][0] = max(mat[i-1][0],mat[i-1][1] + abs(B[i-1]-1))  \n",
        "        mat[i][1] = max(mat[i-1][0] + abs(B[i] - 1),mat[i-1][1])\n",
        "    return max(mat[n-1][0],mat[n-1][1])\n"
      ],
      "execution_count": 12,
      "outputs": []
    },
    {
      "cell_type": "code",
      "metadata": {
        "id": "cKDVtnFOQCcl",
        "colab_type": "code",
        "colab": {
          "base_uri": "https://localhost:8080/",
          "height": 87
        },
        "outputId": "72331718-1b87-4c02-ec1a-c2487cdccb16"
      },
      "source": [
        "   \n",
        "\n",
        "t = int(input())\n",
        "\n",
        "\n",
        "for t_itr in range(t):\n",
        "    n = int(input())\n",
        "\n",
        "    B = list(map(int, input().rstrip().split()))\n",
        "    \n",
        "    result = cost(B,n)\n",
        "\n",
        "print(result)"
      ],
      "execution_count": 13,
      "outputs": [
        {
          "output_type": "stream",
          "text": [
            "1\n",
            "5\n",
            "10 2 10 2 10\n",
            "36\n"
          ],
          "name": "stdout"
        }
      ]
    },
    {
      "cell_type": "markdown",
      "metadata": {
        "id": "_NQiLhXg2v9L",
        "colab_type": "text"
      },
      "source": [
        "###Explanation \n",
        "It is evident that the Array A will give maximum cost only in 2 conditions, when each element of the Array is either 1 or the Maximum value which is B[i] itself. \n",
        "\n",
        "Now mat matrix in our code is a matrix of cost. Where there are two coloumns. \n",
        "The column mat[][0] for when A[i] = B[i] and mat[][1] for when A[i] = 1\n",
        "\n",
        "Initially our cost for both the columns is zero as after first element we dont have any element to calculate the difference from. \n",
        "\n",
        "How dynamic programming solves this problem is that we see two scenarios for each iteration, one where out ith element ends at 1 and calculate the cost for that and the second when our ith element ends at B[i] and we calculate our cost for that. \n",
        "\n",
        "Then we see that out of these both costs which one is the maximum and and then repeat the similar process for our next iteration till we reach the end of the array. \n",
        "\n",
        "At the end, the maximum cost from both the columns are at mat[n-1][0] and mat[n-1][1]. From these we choose the maximum cost. "
      ]
    },
    {
      "cell_type": "code",
      "metadata": {
        "id": "SGx67u5hPm15",
        "colab_type": "code",
        "colab": {}
      },
      "source": [
        "#HACKERRANK CODE BELOW\n",
        "#!/bin/python3\n",
        "\n",
        "import math\n",
        "import os\n",
        "import random\n",
        "import re\n",
        "import sys\n",
        "\n",
        "# Complete the cost function below.\n",
        "def cost(B,n):\n",
        "    A = [[0 for col in range(0,2)] for row in range(0,100000)]\n",
        "    for i in range(1,n):\n",
        "        \n",
        "        A[i][0] = max(A[i-1][0],A[i-1][1] + abs(B[i-1]-1))  \n",
        "        A[i][1] = max(A[i-1][0] + abs(B[i] - 1),A[i-1][1])\n",
        "\n",
        "    return max(A[n-1][0],A[n-1][1])\n",
        "        \n",
        "if __name__ == '__main__':\n",
        "    fptr = open(os.environ['OUTPUT_PATH'], 'w')\n",
        "\n",
        "    t = int(input())\n",
        "\n",
        "\n",
        "    for t_itr in range(t):\n",
        "        n = int(input())\n",
        "\n",
        "        B = list(map(int, input().rstrip().split()))\n",
        "        \n",
        "        result = cost(B,n)\n",
        "\n",
        "        fptr.write(str(result) + '\\n')\n",
        "\n",
        "    fptr.close()\n"
      ],
      "execution_count": 13,
      "outputs": []
    },
    {
      "cell_type": "markdown",
      "metadata": {
        "id": "x-4D4ptfdxRg",
        "colab_type": "text"
      },
      "source": [
        "#COIN CHANGE"
      ]
    },
    {
      "cell_type": "code",
      "metadata": {
        "id": "oByVccKjd6aA",
        "colab_type": "code",
        "colab": {
          "base_uri": "https://localhost:8080/",
          "height": 70
        },
        "outputId": "dc0d5a45-0e3f-48ff-b6a3-c32d63452d9b"
      },
      "source": [
        "def getWays(n, c):\n",
        "    methods = [1] + [0]*n\n",
        "    for vals in c:\n",
        "        for i in range(vals, n+1):\n",
        "            methods[i] += methods[i-vals]\n",
        "    return methods[n]\n",
        "\n",
        "first_multiple_input = input().rstrip().split()\n",
        "n = int(first_multiple_input[0])\n",
        "m = int(first_multiple_input[1])\n",
        "c = list(map(int, input().rstrip().split()))\n",
        "\n",
        "ways = getWays(n, c)\n",
        "print(str(ways))\n"
      ],
      "execution_count": 8,
      "outputs": [
        {
          "output_type": "stream",
          "text": [
            "4 3\n",
            "1 2 3\n",
            "4\n"
          ],
          "name": "stdout"
        }
      ]
    },
    {
      "cell_type": "markdown",
      "metadata": {
        "id": "nHS1eybFeIzj",
        "colab_type": "text"
      },
      "source": [
        "###Explanation \n",
        "We have defined our methods array which has all values from 0 to 5 which is suppose the sum we want to acheive using the given coins. We the iterate the list c so that we get value of each coin.\n",
        "\n",
        "There is 1 way to get 0 from the first coin, say that is take 0 coins, this is why initialize the first element, corresponding to our sum of 0 to 1. Then if we move to achieve sum of 1, we will write the ways to acheive that using the first coin in c in the array location 1. This will go on till n values of the array is reached.\n",
        "\n",
        "Then we move to the second coin, now when we iterate through the loop again for the second coin, we will try to achieve the sum same as each index of the array through both the coins now. Thus all array positions having values less than the coin value will remain same as previous step. The moment the array index becomes equal to the coin value, we will need to add how we acheived the sum including previous values.\n",
        "\n",
        "For eg, if we have to calculate sum of 3 using coins of 1 and 2, we can get 3 using 1 coins in 1 way, but if we coins of 1 and 2 both, we can get them in 1 way using only 1s coins and we will add to it how we achieved the sum of 1 using 2 coins, i.e. also 1, hence a total of 2 values.\n",
        "\n",
        "This loop repeats until in the final iteration of c, all coins are considered and we are left with the sum of ways we can acheive the given sum using the given set of coins to us.\n"
      ]
    },
    {
      "cell_type": "code",
      "metadata": {
        "id": "WXlM4Qnod2fh",
        "colab_type": "code",
        "colab": {}
      },
      "source": [
        "#Hackerrank Code\n",
        "#!/bin/python3\n",
        "\n",
        "import math\n",
        "import os\n",
        "import random\n",
        "import re\n",
        "import sys\n",
        "\n",
        "#\n",
        "# Complete the 'getWays' function below.\n",
        "#\n",
        "# The function is expected to return a LONG_INTEGER.\n",
        "# The function accepts following parameters:\n",
        "#  1. INTEGER n\n",
        "#  2. LONG_INTEGER_ARRAY c\n",
        "#\n",
        "\n",
        "def getWays(n, c):\n",
        "    methods = [1] + [0]*n\n",
        "    for vals in c:\n",
        "        for i in range(vals, n+1):\n",
        "            methods[i] += methods[i-vals]\n",
        "    return methods[n]\n",
        "\n",
        "if __name__ == '__main__':\n",
        "    fptr = open(os.environ['OUTPUT_PATH'], 'w')\n",
        "\n",
        "    first_multiple_input = input().rstrip().split()\n",
        "\n",
        "    n = int(first_multiple_input[0])\n",
        "\n",
        "    m = int(first_multiple_input[1])\n",
        "\n",
        "    c = list(map(int, input().rstrip().split()))\n",
        "\n",
        "    # Print the number of ways of making change for 'n' units using coins having the values given by 'c'\n",
        "\n",
        "    ways = getWays(n, c)\n",
        "\n",
        "    fptr.write(str(ways) + '\\n')\n",
        "\n",
        "    fptr.close()\n"
      ],
      "execution_count": null,
      "outputs": []
    },
    {
      "cell_type": "markdown",
      "metadata": {
        "id": "aEGaFQhAfPLD",
        "colab_type": "text"
      },
      "source": [
        "#Validating Postal Codes "
      ]
    },
    {
      "cell_type": "code",
      "metadata": {
        "id": "h9rd8g5If2cr",
        "colab_type": "code",
        "colab": {
          "base_uri": "https://localhost:8080/",
          "height": 52
        },
        "outputId": "dfbde8bd-0828-4424-e01c-d990ede903d1"
      },
      "source": [
        "regex_integer_in_range = r\"^[1-9][0-9]{5}$\"    # Do not delete 'r'.\n",
        "regex_alternating_repetitive_digit_pair = r\"(\\d)(?=\\d\\1)\"    # Do not delete 'r'.\n",
        "\n",
        "\n",
        "\n",
        "\n",
        "import re\n",
        "P = input()\n",
        "\n",
        "print (bool(re.match(regex_integer_in_range, P)) and len(re.findall(regex_alternating_repetitive_digit_pair, P)) < 2)"
      ],
      "execution_count": 11,
      "outputs": [
        {
          "output_type": "stream",
          "text": [
            "110000\n",
            "False\n"
          ],
          "name": "stdout"
        }
      ]
    },
    {
      "cell_type": "markdown",
      "metadata": {
        "id": "MwF7TTq9f-F7",
        "colab_type": "text"
      },
      "source": [
        "###Explanation \n",
        "We use the package regex to solve this problem without if statetment (it was not allowed to use).\n",
        "\n",
        "In the regex_iunteger_in_range variable, the first square bracket is for checking the first number is between 1 and 9. and the next square bracket is for checking the number is between 0 to 9. The 5 in curly bracket says that the 0 to 9 rule be applied to the 5 digits after the first digit.\n",
        "\n",
        "In the regex_alternating_repetitive_digit_pair, the \\d command is used for checking if the input is a digit or not, ?=\\d\\1 is used to check if the alternating position is a repaeating digit or not.\n",
        "\n",
        "re.match is used to match a constraint to a given input whereas, re.findall returns a count of a certain condition existing in an input. These are also functions of the re package.\n",
        "\n"
      ]
    }
  ]
}
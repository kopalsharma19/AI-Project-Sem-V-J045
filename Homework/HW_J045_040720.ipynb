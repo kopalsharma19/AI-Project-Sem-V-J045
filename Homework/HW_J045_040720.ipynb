{
  "nbformat": 4,
  "nbformat_minor": 0,
  "metadata": {
    "colab": {
      "name": "HW_J045_040720.ipynb",
      "provenance": [],
      "collapsed_sections": [],
      "authorship_tag": "ABX9TyMbsDQcwggBpjci6MtPUrSa",
      "include_colab_link": true
    },
    "kernelspec": {
      "name": "python3",
      "display_name": "Python 3"
    }
  },
  "cells": [
    {
      "cell_type": "markdown",
      "metadata": {
        "id": "view-in-github",
        "colab_type": "text"
      },
      "source": [
        "<a href=\"https://colab.research.google.com/github/kopalsharma19/AI-Project-Sem-V-J045/blob/master/Homework/HW_J045_040720.ipynb\" target=\"_parent\"><img src=\"https://colab.research.google.com/assets/colab-badge.svg\" alt=\"Open In Colab\"/></a>"
      ]
    },
    {
      "cell_type": "code",
      "metadata": {
        "id": "8tGkF3Hg2Q88",
        "colab_type": "code",
        "colab": {}
      },
      "source": [
        ""
      ],
      "execution_count": null,
      "outputs": []
    },
    {
      "cell_type": "markdown",
      "metadata": {
        "id": "lNO1N2S42lhV",
        "colab_type": "text"
      },
      "source": [
        "# **Python If-Else**"
      ]
    },
    {
      "cell_type": "code",
      "metadata": {
        "id": "dkhAUcyc2qNQ",
        "colab_type": "code",
        "colab": {}
      },
      "source": [
        "#!/bin/python3\n",
        "\n",
        "import math\n",
        "import os\n",
        "import random\n",
        "import re\n",
        "import sys\n",
        "\n",
        "\n",
        "\n",
        "if __name__ == '__main__':\n",
        "    n = int(input().strip())\n",
        "\n",
        "    if 1<=n<=100:\n",
        "            \n",
        "        if n%2 != 0 :\n",
        "            print(\"Weird\")\n",
        "        elif n%2 == 0 and 2<= n <=5:\n",
        "            print(\"Not Weird\")\n",
        "        elif n%2 == 0 and 6<= n <=20:\n",
        "            print(\"Weird\")\n",
        "        elif n%2 ==0 and n>20 :\n",
        "            print(\"Not Weird\")\n",
        "    \n",
        "    else:\n",
        "        pass\n",
        "\n"
      ],
      "execution_count": null,
      "outputs": []
    },
    {
      "cell_type": "markdown",
      "metadata": {
        "id": "_kC6_PMS2tPW",
        "colab_type": "text"
      },
      "source": [
        "# **Arithmetic Operators**"
      ]
    },
    {
      "cell_type": "code",
      "metadata": {
        "id": "pHo5FhXk3DwE",
        "colab_type": "code",
        "colab": {}
      },
      "source": [
        "if __name__ == '__main__':\n",
        "    a = int(input())\n",
        "    b = int(input())\n",
        "\n",
        "    if 1<=a<=pow(10,10) and 1<=b<=pow(10,10):\n",
        "\n",
        "        print(a+b)\n",
        "        print(a-b)\n",
        "        print(a*b)\n"
      ],
      "execution_count": null,
      "outputs": []
    },
    {
      "cell_type": "markdown",
      "metadata": {
        "id": "4ZYFqJer7MsZ",
        "colab_type": "text"
      },
      "source": [
        "# **Python: Division**"
      ]
    },
    {
      "cell_type": "code",
      "metadata": {
        "id": "fa3KtJ0a7PpH",
        "colab_type": "code",
        "colab": {}
      },
      "source": [
        "if __name__ == '__main__':\n",
        "    a = int(input())\n",
        "    b = int(input())\n",
        "\n",
        "    print(a//b)\n",
        "    print(a/b)"
      ],
      "execution_count": null,
      "outputs": []
    },
    {
      "cell_type": "markdown",
      "metadata": {
        "id": "IuxoD5Fz3GVd",
        "colab_type": "text"
      },
      "source": [
        "# **Loops**"
      ]
    },
    {
      "cell_type": "code",
      "metadata": {
        "id": "gfAOYonA7E8s",
        "colab_type": "code",
        "colab": {}
      },
      "source": [
        "if __name__ == '__main__':\n",
        "    n = int(input())\n",
        "\n",
        "    if 1<=n<=20:\n",
        "\n",
        "        for i in range(0,n):\n",
        "            print(pow(i,2))\n"
      ],
      "execution_count": null,
      "outputs": []
    },
    {
      "cell_type": "markdown",
      "metadata": {
        "id": "bMLUwA967kHs",
        "colab_type": "text"
      },
      "source": [
        "# **Print Function**"
      ]
    },
    {
      "cell_type": "code",
      "metadata": {
        "id": "Xx-ageFF88w3",
        "colab_type": "code",
        "colab": {
          "base_uri": "https://localhost:8080/",
          "height": 72
        },
        "outputId": "d06cff43-c473-4bc6-d828-30b81656cf3a"
      },
      "source": [
        "if __name__ == '__main__':\n",
        "    n = int(input())\n",
        "\n",
        "    for i in range(1,n+1):\n",
        "        print(i,end='')\n",
        "        "
      ],
      "execution_count": 5,
      "outputs": [
        {
          "output_type": "stream",
          "text": [
            "133\n",
            "123456789101112131415161718192021222324252627282930313233343536373839404142434445464748495051525354555657585960616263646566676869707172737475767778798081828384858687888990919293949596979899100101102103104105106107108109110111112113114115116117118119120121122123124125126127128129130131132133"
          ],
          "name": "stdout"
        }
      ]
    },
    {
      "cell_type": "markdown",
      "metadata": {
        "id": "vu9Hh-BkAHcT",
        "colab_type": "text"
      },
      "source": [
        "# **List Comprehensions**"
      ]
    },
    {
      "cell_type": "code",
      "metadata": {
        "id": "SawXc8XCAKEG",
        "colab_type": "code",
        "colab": {
          "base_uri": "https://localhost:8080/",
          "height": 124
        },
        "outputId": "ddc8c708-97da-4969-b3d8-742ffa4dab43"
      },
      "source": [
        "if __name__ == '__main__':\n",
        "    x = int(input())\n",
        "    y = int(input())\n",
        "    z = int(input())\n",
        "    n = int(input())\n",
        "\n",
        "    lst = [[i,j,k] for i in range(0,x+1) for j in range(0,y+1) for k in range(0,z+1) if i+j+k != n]\n",
        "    print(lst)\n"
      ],
      "execution_count": 18,
      "outputs": [
        {
          "output_type": "stream",
          "text": [
            "2\n",
            "2\n",
            "2\n",
            "2\n",
            "[[0, 0, 0], [0, 0, 1], [0, 1, 0], [0, 1, 2], [0, 2, 1], [0, 2, 2], [1, 0, 0], [1, 0, 2], [1, 1, 1], [1, 1, 2], [1, 2, 0], [1, 2, 1], [1, 2, 2], [2, 0, 1], [2, 0, 2], [2, 1, 0], [2, 1, 1], [2, 1, 2], [2, 2, 0], [2, 2, 1], [2, 2, 2]]\n"
          ],
          "name": "stdout"
        }
      ]
    }
  ]
}
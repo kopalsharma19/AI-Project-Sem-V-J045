{
  "nbformat": 4,
  "nbformat_minor": 0,
  "metadata": {
    "colab": {
      "name": "HW_J045_080820.ipynb",
      "provenance": [],
      "collapsed_sections": [],
      "authorship_tag": "ABX9TyN5laowjWd94nvwYLTvXHdH"
    },
    "kernelspec": {
      "name": "python3",
      "display_name": "Python 3"
    }
  },
  "cells": [
    {
      "cell_type": "markdown",
      "metadata": {
        "id": "SSi03KYEZ7hM",
        "colab_type": "text"
      },
      "source": [
        "#A Knapsack Problem"
      ]
    },
    {
      "cell_type": "code",
      "metadata": {
        "id": "ZVocxfwjNon3",
        "colab_type": "code",
        "colab": {
          "base_uri": "https://localhost:8080/",
          "height": 140
        },
        "outputId": "8e361922-4529-411c-8841-0dd28377593e"
      },
      "source": [
        "\n",
        "import sys\n",
        "import heapq\n",
        "\n",
        "def solve(N,M,S,V,E) :\n",
        "\n",
        "    T = tuple(set() for _ in range(N))\n",
        "    for u,v in E :\n",
        "        T[u].add(v)\n",
        "        T[v].add(u)\n",
        "    Total, order, maxValue = sum(V), sorted(range(n), reverse=True, key=(lambda i : V[i]/S[i])), 0\n",
        "        \n",
        "    def getMax(visited, connected, rejected, size, value, rejectedValue, maxValue) :\n",
        "#        print((visited, connected, rejected, size, value, rejectedValue, maxValue), file = sys.stderr)\n",
        "        if value > maxValue :\n",
        "            maxValue = value\n",
        "            \n",
        "        if not connected :\n",
        "            return maxValue\n",
        "        \n",
        "        i = getBest(connected)\n",
        "        if size + S[i] <= M :\n",
        "            maxValue = getMax(visited|{i}, (connected-{i}) | (T[i]-rejected-visited), rejected, size+S[i], value+V[i], rejectedValue, maxValue)\n",
        "            \n",
        "        if Total - (rejectedValue + V[i]) > maxValue :\n",
        "            maxValue = getMax(visited|{i}, connected-{i}, rejected | {i}, size, value, rejectedValue + V[i], maxValue)\n",
        "            \n",
        "        return maxValue\n",
        "\n",
        "    def getBest(connected) :\n",
        "        for i in order :\n",
        "            if i in connected :\n",
        "                return i\n",
        "            \n",
        "    for s in order :\n",
        "        maxValue = getMax(set(),{s},set(),0,0,0,maxValue)\n",
        "\n",
        "    return maxValue\n",
        "\n",
        "T = int(input())\n",
        "for _ in range(T) :\n",
        "    n,m = (int(_) for _ in input().split())\n",
        "    s = tuple(int(_) for _ in input().split())\n",
        "    v = tuple(int(_) for _ in input().split())\n",
        "    e = tuple((int(_)-1 for _ in input().split()) for _ in range(n-1))\n",
        "    print(\"output\",solve(n,m,s,v,e))"
      ],
      "execution_count": null,
      "outputs": [
        {
          "output_type": "stream",
          "text": [
            "1\n",
            "3 1\n",
            "1 1 1\n",
            "1 2 3\n",
            "1 2 \n",
            "1 3\n",
            "output 3\n"
          ],
          "name": "stdout"
        }
      ]
    },
    {
      "cell_type": "markdown",
      "metadata": {
        "id": "_yyvN2Z_FkBM",
        "colab_type": "text"
      },
      "source": [
        "So we are inputing 1 as the number of test cases, so the loop will run 1 time,\n",
        "\n",
        "the next line contains the numbers 3 & 1 where in 3 denotes how many items are there and 1 denoting the size of knapsack, so at the most there can only be one item.\n",
        "\n",
        "1,1,1 denotes the size of the item asscociated at node i & 1,2,3 is the value of each of the following items.\n",
        "\n",
        "We can now seperate these numbers so that they form a tree or so we know there is a difference between them(edge) so we input 1,2 and 1,3 so 1 is branching towards 2 and another brach to 3\n",
        "\n",
        "From the inputs got we can cleary see that 3 is the largest value and as the knapsack size is 1, the output should be 3.\n",
        "\n"
      ]
    },
    {
      "cell_type": "code",
      "metadata": {
        "id": "XcqFUFdKYz9W",
        "colab_type": "code",
        "colab": {
          "base_uri": "https://localhost:8080/",
          "height": 175
        },
        "outputId": "1437568d-264c-4e5d-95e7-55cb2db06cb3"
      },
      "source": [
        "import sys\n",
        "import heapq\n",
        "\n",
        "def solve(N,M,S,V,E) :\n",
        "\n",
        "    T = tuple(set() for _ in range(N))\n",
        "    for u,v in E :\n",
        "        T[u].add(v)\n",
        "        T[v].add(u)\n",
        "    Total, order, maxValue = sum(V), sorted(range(n), reverse=True, key=(lambda i : V[i]/S[i])), 0\n",
        "        \n",
        "    def getMax(visited, connected, rejected, size, value, rejectedValue, maxValue) :\n",
        "#        print((visited, connected, rejected, size, value, rejectedValue, maxValue), file = sys.stderr)\n",
        "        if value > maxValue :\n",
        "            maxValue = value\n",
        "            \n",
        "        if not connected :\n",
        "            return maxValue\n",
        "        \n",
        "        i = getBest(connected)\n",
        "        if size + S[i] <= M :\n",
        "            maxValue = getMax(visited|{i}, (connected-{i}) | (T[i]-rejected-visited), rejected, size+S[i], value+V[i], rejectedValue, maxValue)\n",
        "            \n",
        "        if Total - (rejectedValue + V[i]) > maxValue :\n",
        "            maxValue = getMax(visited|{i}, connected-{i}, rejected | {i}, size, value, rejectedValue + V[i], maxValue)\n",
        "            \n",
        "        return maxValue\n",
        "\n",
        "    def getBest(connected) :\n",
        "        for i in order :\n",
        "            if i in connected :\n",
        "                return i\n",
        "            \n",
        "    for s in order :\n",
        "        maxValue = getMax(set(),{s},set(),0,0,0,maxValue)\n",
        "\n",
        "    return maxValue\n",
        "\n",
        "T = int(input())\n",
        "for _ in range(T) :\n",
        "    n,m = (int(_) for _ in input().split())\n",
        "    s = tuple(int(_) for _ in input().split())\n",
        "    v = tuple(int(_) for _ in input().split())\n",
        "    e = tuple((int(_)-1 for _ in input().split()) for _ in range(n-1))\n",
        "    print(\"output\",solve(n,m,s,v,e))"
      ],
      "execution_count": null,
      "outputs": [
        {
          "output_type": "stream",
          "text": [
            "1 \n",
            "5 3\n",
            "1 1 1 1 1\n",
            "3 5 2 2 3\n",
            "1 2 \n",
            "1 3\n",
            "2 4\n",
            "2 5\n",
            "output 11\n"
          ],
          "name": "stdout"
        }
      ]
    },
    {
      "cell_type": "code",
      "metadata": {
        "id": "tvbdOUuUZGJd",
        "colab_type": "code",
        "colab": {
          "base_uri": "https://localhost:8080/",
          "height": 245
        },
        "outputId": "da237e35-33ec-453f-b5d1-568144a7fa12"
      },
      "source": [
        "T = int(input())\n",
        "for _ in range(T) :\n",
        "    n,m = (int(_) for _ in input().split())\n",
        "    s = tuple(int(_) for _ in input().split())\n",
        "    v = tuple(int(_) for _ in input().split())\n",
        "    e = tuple((int(_)-1 for _ in input().split()) for _ in range(n-1))\n",
        "    print(\"output\",solve(n,m,s,v,e))"
      ],
      "execution_count": null,
      "outputs": [
        {
          "output_type": "stream",
          "text": [
            "1\n",
            "9 7\n",
            "1 1 3 2 1 1 1 5 5\n",
            "1 0 8 5 1 2 0 9 14\n",
            "1 2\n",
            "2 3\n",
            "2 4\n",
            "3 5\n",
            "3 6\n",
            "4 7\n",
            "4 8\n",
            "7 9\n",
            "output 15\n"
          ],
          "name": "stdout"
        }
      ]
    },
    {
      "cell_type": "markdown",
      "metadata": {
        "id": "M_MXhT4rFmjN",
        "colab_type": "text"
      },
      "source": [
        ""
      ]
    },
    {
      "cell_type": "code",
      "metadata": {
        "id": "xr-fH3WaFqHi",
        "colab_type": "code",
        "colab": {}
      },
      "source": [
        "'''\n",
        "\n",
        "T = int(input()) #input 1\n",
        "for _ in range(T) : #range from 1 to 1\n",
        "n,m = (int(_) for _ in input().split()) #n = 3, m = 1, so 3 items, 1 knapsize\n",
        "s = tuple(int(_) for _ in input().split()) #s is  tuple of 1,1,1 indicting the size of each of the 3 objects\n",
        "v = tuple(int(_) for _ in input().split()) # is the tuple of 1,2,3 indicating the values of the 3 objects\n",
        "e = tuple((int(_)-1 for _ in input().split()) for _ in range(n-1)) # takes the edge values (1,2),(1,3) \n",
        "print(solve(n,m,s,v,e))\n",
        "def solve(N,M,S,V,E) : # takes the values of n,m,s,v,e as defined above\n",
        "# N = 3\n",
        "# M = 1\n",
        "# S = (1,1,1)\n",
        "# V = (1,2,3)\n",
        "# E = ((1,2),(1,3))\n",
        "\n",
        "T = tuple(set() for _ in range(N)) #in range 1 to 3\n",
        "for u,v in E :\n",
        "    T[u].add(v)\n",
        "    T[v].add(u)\n",
        "    #  therefore T = ({1, 2}, {0}, {0})\n",
        "Total, order, maxValue = sum(V), sorted(range(n), reverse=True, key=(lambda i : V[i]/S[i])), 0\n",
        "# Total is sum of all values in V i.e. 1+2+3 = 6\n",
        "# order is the sorted range of value of an object / size of that object, therefore the order = [2, 1, 0]\n",
        "# lets set the maxvalue at 0, so maxValue = 0\n",
        "for s in order : \n",
        "    maxValue = getMax(set(),{s},set(),0,0,0,maxValue) #passing the arguments in getMax\n",
        "\n",
        "return maxValue\n",
        "\n",
        "def getMax(visited, connected, rejected, size, value, rejectedValue, maxValue) :\n",
        "\n",
        "#visited = empty set\n",
        "#connected = {s}, s = 2,1,0 from the order \n",
        "#rejected = empty set\n",
        "#size = 0\n",
        "#value = 0\n",
        "#rejectedValue = 0\n",
        "#maxValue = 0 \n",
        "\n",
        "    if value > maxValue :\n",
        "        maxValue = value\n",
        "\n",
        "    if not connected :\n",
        "        return maxValue\n",
        "\n",
        "    i = getBest(connected)\n",
        "    # i = 2\n",
        "\n",
        "    if size + S[i] <= M : # 0 + 2 > M doesnt run further\n",
        "        maxValue = getMax(visited|{i}, (connected-{i}) | (T[i]-rejected-visited), rejected, size+S[i], value+V[i], rejectedValue, maxValue)\n",
        "\n",
        "    if Total - (rejectedValue + V[i]) > maxValue : # 6 - (0+3) = 3 is > 0\n",
        "        maxValue = getMax(visited|{i}, connected-{i}, rejected | {i}, size, value, rejectedValue + V[i], maxValue)\n",
        "\n",
        "      #visited = empty set or 2\n",
        "      #connected = 1 \n",
        "      #rejected = empty set or 2\n",
        "      #size = 0\n",
        "      #value = 0\n",
        "      #rejectedValue = 3\n",
        "      #maxValue = 0\n",
        "\n",
        "    return maxValue\n",
        "\n",
        "def getBest(connected) :\n",
        "    for i in order :\n",
        "        if i in connected :\n",
        "            return i\n",
        "The last loop runs and returns us 3\n",
        "'''"
      ],
      "execution_count": null,
      "outputs": []
    }
  ]
}
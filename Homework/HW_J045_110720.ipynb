{
  "nbformat": 4,
  "nbformat_minor": 0,
  "metadata": {
    "colab": {
      "name": "HW_J045_110720.ipynb",
      "provenance": [],
      "collapsed_sections": [],
      "authorship_tag": "ABX9TyPRkf5cmmag782fRKA9M5vM",
      "include_colab_link": true
    },
    "kernelspec": {
      "name": "python3",
      "display_name": "Python 3"
    }
  },
  "cells": [
    {
      "cell_type": "markdown",
      "metadata": {
        "id": "view-in-github",
        "colab_type": "text"
      },
      "source": [
        "<a href=\"https://colab.research.google.com/github/kopalsharma19/AI-Project-Sem-V-J045/blob/master/Homework/HW_J045_110720.ipynb\" target=\"_parent\"><img src=\"https://colab.research.google.com/assets/colab-badge.svg\" alt=\"Open In Colab\"/></a>"
      ]
    },
    {
      "cell_type": "markdown",
      "metadata": {
        "id": "EzjJ9s6M_4lS",
        "colab_type": "text"
      },
      "source": [
        "# **HOMEWORK**\n",
        "\n",
        "- Create a custom class DataRead to read csv file using pandas\n",
        "\n",
        "- Create a custom function RowSelect within the class to select any 2 rows of the the the dataframe\n",
        "- Create a sub class of DataRead1 as  DataRead2  that has function for correlation plots (using any lib for correlation plot)\n",
        "\n",
        "- Within DataRead2 also create a function to override the custom function of DataRead1 RowSelect to select 3 rows"
      ]
    },
    {
      "cell_type": "code",
      "metadata": {
        "id": "Cwd14wWxCF-X",
        "colab_type": "code",
        "colab": {}
      },
      "source": [
        "import pandas as pd"
      ],
      "execution_count": 1,
      "outputs": []
    },
    {
      "cell_type": "markdown",
      "metadata": {
        "id": "oWOpA2FIDga-",
        "colab_type": "text"
      },
      "source": [
        "### Custom class DataRead to read csv file using pandas"
      ]
    },
    {
      "cell_type": "code",
      "metadata": {
        "id": "YOKbBxbf_yQ-",
        "colab_type": "code",
        "colab": {}
      },
      "source": [
        "class DataRead:\n",
        "  def __init__(self):\n",
        "    self.file_name = 'https://people.sc.fsu.edu/~jburkardt/data/csv/addresses.csv'\n",
        "  \n",
        "  def read(self):\n",
        "    self.df = pd.DataFrame(pd.read_csv(self.file_name))\n",
        "    return self.df\n",
        "  "
      ],
      "execution_count": 20,
      "outputs": []
    },
    {
      "cell_type": "code",
      "metadata": {
        "id": "syc-XAmrB5Fg",
        "colab_type": "code",
        "colab": {}
      },
      "source": [
        "s1 = DataRead()\n"
      ],
      "execution_count": 21,
      "outputs": []
    },
    {
      "cell_type": "code",
      "metadata": {
        "id": "cUyl8ofIV-u8",
        "colab_type": "code",
        "colab": {
          "base_uri": "https://localhost:8080/",
          "height": 202
        },
        "outputId": "e4a553d6-fe29-431a-9399-0319a696db34"
      },
      "source": [
        "s1.read()"
      ],
      "execution_count": 22,
      "outputs": [
        {
          "output_type": "execute_result",
          "data": {
            "text/html": [
              "<div>\n",
              "<style scoped>\n",
              "    .dataframe tbody tr th:only-of-type {\n",
              "        vertical-align: middle;\n",
              "    }\n",
              "\n",
              "    .dataframe tbody tr th {\n",
              "        vertical-align: top;\n",
              "    }\n",
              "\n",
              "    .dataframe thead th {\n",
              "        text-align: right;\n",
              "    }\n",
              "</style>\n",
              "<table border=\"1\" class=\"dataframe\">\n",
              "  <thead>\n",
              "    <tr style=\"text-align: right;\">\n",
              "      <th></th>\n",
              "      <th>John</th>\n",
              "      <th>Doe</th>\n",
              "      <th>120 jefferson st.</th>\n",
              "      <th>Riverside</th>\n",
              "      <th>NJ</th>\n",
              "      <th>08075</th>\n",
              "    </tr>\n",
              "  </thead>\n",
              "  <tbody>\n",
              "    <tr>\n",
              "      <th>0</th>\n",
              "      <td>Jack</td>\n",
              "      <td>McGinnis</td>\n",
              "      <td>220 hobo Av.</td>\n",
              "      <td>Phila</td>\n",
              "      <td>PA</td>\n",
              "      <td>9119</td>\n",
              "    </tr>\n",
              "    <tr>\n",
              "      <th>1</th>\n",
              "      <td>John \"Da Man\"</td>\n",
              "      <td>Repici</td>\n",
              "      <td>120 Jefferson St.</td>\n",
              "      <td>Riverside</td>\n",
              "      <td>NJ</td>\n",
              "      <td>8075</td>\n",
              "    </tr>\n",
              "    <tr>\n",
              "      <th>2</th>\n",
              "      <td>Stephen</td>\n",
              "      <td>Tyler</td>\n",
              "      <td>7452 Terrace \"At the Plaza\" road</td>\n",
              "      <td>SomeTown</td>\n",
              "      <td>SD</td>\n",
              "      <td>91234</td>\n",
              "    </tr>\n",
              "    <tr>\n",
              "      <th>3</th>\n",
              "      <td>NaN</td>\n",
              "      <td>Blankman</td>\n",
              "      <td>NaN</td>\n",
              "      <td>SomeTown</td>\n",
              "      <td>SD</td>\n",
              "      <td>298</td>\n",
              "    </tr>\n",
              "    <tr>\n",
              "      <th>4</th>\n",
              "      <td>Joan \"the bone\", Anne</td>\n",
              "      <td>Jet</td>\n",
              "      <td>9th, at Terrace plc</td>\n",
              "      <td>Desert City</td>\n",
              "      <td>CO</td>\n",
              "      <td>123</td>\n",
              "    </tr>\n",
              "  </tbody>\n",
              "</table>\n",
              "</div>"
            ],
            "text/plain": [
              "                    John       Doe  ...   NJ  08075\n",
              "0                   Jack  McGinnis  ...   PA   9119\n",
              "1          John \"Da Man\"    Repici  ...   NJ   8075\n",
              "2                Stephen     Tyler  ...   SD  91234\n",
              "3                    NaN  Blankman  ...   SD    298\n",
              "4  Joan \"the bone\", Anne       Jet  ...   CO    123\n",
              "\n",
              "[5 rows x 6 columns]"
            ]
          },
          "metadata": {
            "tags": []
          },
          "execution_count": 22
        }
      ]
    },
    {
      "cell_type": "markdown",
      "metadata": {
        "id": "fdwvHqjxD08U",
        "colab_type": "text"
      },
      "source": [
        "### Custom function RowSelect within the class to select any 2 rows of the the the dataframe\n"
      ]
    },
    {
      "cell_type": "code",
      "metadata": {
        "id": "j-kDdbyQC_Ay",
        "colab_type": "code",
        "colab": {}
      },
      "source": [
        "class DataRead:\n",
        "  def __init__(self):\n",
        "    self.file_name = 'https://people.sc.fsu.edu/~jburkardt/data/csv/addresses.csv'\n",
        "  \n",
        "  def read(self):\n",
        "    self.df = pd.DataFrame(pd.read_csv(self.file_name))\n",
        "    return self.df\n",
        "  \n",
        "  def RowSelect(self,index1,index2):\n",
        "    df = self.read()\n",
        "    print(df.loc[[index1,index2],:])\n",
        "\n",
        "  "
      ],
      "execution_count": 25,
      "outputs": []
    },
    {
      "cell_type": "code",
      "metadata": {
        "id": "JivmrMtJGzIF",
        "colab_type": "code",
        "colab": {
          "base_uri": "https://localhost:8080/",
          "height": 104
        },
        "outputId": "92b5ecb1-c7d6-4d05-e89b-c27010b1bba7"
      },
      "source": [
        "select = DataRead()\n",
        "select.RowSelect(1,2)\n"
      ],
      "execution_count": 26,
      "outputs": [
        {
          "output_type": "stream",
          "text": [
            "            John     Doe  ...   NJ  08075\n",
            "1  John \"Da Man\"  Repici  ...   NJ   8075\n",
            "2        Stephen   Tyler  ...   SD  91234\n",
            "\n",
            "[2 rows x 6 columns]\n"
          ],
          "name": "stdout"
        }
      ]
    },
    {
      "cell_type": "markdown",
      "metadata": {
        "id": "oPgPSTGFHckN",
        "colab_type": "text"
      },
      "source": [
        "### Sub class of DataRead1 as  DataRead2  that has function for correlation plots (using any lib for correlation plot)\n"
      ]
    },
    {
      "cell_type": "code",
      "metadata": {
        "id": "sLXUiX8XH03C",
        "colab_type": "code",
        "colab": {
          "base_uri": "https://localhost:8080/",
          "height": 72
        },
        "outputId": "bb763875-b930-474d-9751-6fd157a6022f"
      },
      "source": [
        "import seaborn as sns \n",
        "import matplotlib.pyplot as plt"
      ],
      "execution_count": 6,
      "outputs": [
        {
          "output_type": "stream",
          "text": [
            "/usr/local/lib/python3.6/dist-packages/statsmodels/tools/_testing.py:19: FutureWarning: pandas.util.testing is deprecated. Use the functions in the public API at pandas.testing instead.\n",
            "  import pandas.util.testing as tm\n"
          ],
          "name": "stderr"
        }
      ]
    },
    {
      "cell_type": "code",
      "metadata": {
        "id": "N3hS_yW4G-DV",
        "colab_type": "code",
        "colab": {}
      },
      "source": [
        "class DataRead2(DataRead):\n",
        "  def corrplot(self):\n",
        "    df = self.read()\n",
        "    corrplot = df.corr()\n",
        "    sns.heatmap(corrplot)\n",
        "    plt.show()\n",
        "    "
      ],
      "execution_count": 36,
      "outputs": []
    },
    {
      "cell_type": "code",
      "metadata": {
        "id": "oYl4ZQFhCOKQ",
        "colab_type": "code",
        "colab": {}
      },
      "source": [
        "corrplt = DataRead2() "
      ],
      "execution_count": 37,
      "outputs": []
    },
    {
      "cell_type": "code",
      "metadata": {
        "id": "-awbCcHEGeaP",
        "colab_type": "code",
        "colab": {
          "base_uri": "https://localhost:8080/",
          "height": 269
        },
        "outputId": "5e2cf2bc-b144-4525-8dd1-150b7797ab5d"
      },
      "source": [
        "corrplt.corrplot()"
      ],
      "execution_count": 38,
      "outputs": [
        {
          "output_type": "display_data",
          "data": {
            "image/png": "[encoded data removed]",
            "text/plain": [
              "<Figure size 432x288 with 2 Axes>"
            ]
          },
          "metadata": {
            "tags": [],
            "needs_background": "light"
          }
        }
      ]
    },
    {
      "cell_type": "markdown",
      "metadata": {
        "id": "bW-sOTDWYXlb",
        "colab_type": "text"
      },
      "source": [
        "### A function to override the custom function of DataRead1 RowSelect to select 3 rows"
      ]
    },
    {
      "cell_type": "code",
      "metadata": {
        "id": "9AxtBGAEYd0-",
        "colab_type": "code",
        "colab": {}
      },
      "source": [
        "class DataRead2(DataRead):\n",
        "  def corrplot(self):\n",
        "    df = self.read()\n",
        "    corrplot = df.corr()\n",
        "    sns.heatmap(corrplot)\n",
        "    plt.show()\n",
        "    \n",
        "  def RowSelect(self,index1,index2,index3):\n",
        "    df = self.read()\n",
        "    print(df.loc[[index1,index2,index3],:])\n"
      ],
      "execution_count": 39,
      "outputs": []
    },
    {
      "cell_type": "code",
      "metadata": {
        "id": "CSdU6weTYukW",
        "colab_type": "code",
        "colab": {}
      },
      "source": [
        "select3 = DataRead2()"
      ],
      "execution_count": 40,
      "outputs": []
    },
    {
      "cell_type": "code",
      "metadata": {
        "id": "Cpk9sV8mYxuH",
        "colab_type": "code",
        "colab": {
          "base_uri": "https://localhost:8080/",
          "height": 121
        },
        "outputId": "a13d52f4-a9e3-4140-f193-f38e7ecbbff8"
      },
      "source": [
        "select3.RowSelect(1,2,3)"
      ],
      "execution_count": 42,
      "outputs": [
        {
          "output_type": "stream",
          "text": [
            "            John       Doe  ...   NJ  08075\n",
            "1  John \"Da Man\"    Repici  ...   NJ   8075\n",
            "2        Stephen     Tyler  ...   SD  91234\n",
            "3            NaN  Blankman  ...   SD    298\n",
            "\n",
            "[3 rows x 6 columns]\n"
          ],
          "name": "stdout"
        }
      ]
    }
  ]
}
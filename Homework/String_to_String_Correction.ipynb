{
  "nbformat": 4,
  "nbformat_minor": 0,
  "metadata": {
    "colab": {
      "name": "String to String Correction.ipynb",
      "provenance": [],
      "collapsed_sections": [],
      "authorship_tag": "ABX9TyOXgjc+/7ITgoVFflE7hOPn",
      "include_colab_link": true
    },
    "kernelspec": {
      "name": "python3",
      "display_name": "Python 3"
    }
  },
  "cells": [
    {
      "cell_type": "markdown",
      "metadata": {
        "id": "view-in-github",
        "colab_type": "text"
      },
      "source": [
        "<a href=\"https://colab.research.google.com/github/kopalsharma19/AI-Project-Sem-V-J045/blob/master/Homework/String_to_String_Correction.ipynb\" target=\"_parent\"><img src=\"https://colab.research.google.com/assets/colab-badge.svg\" alt=\"Open In Colab\"/></a>"
      ]
    },
    {
      "cell_type": "code",
      "metadata": {
        "id": "hyV5O9y0FfMq",
        "colab_type": "code",
        "colab": {}
      },
      "source": [
        "import numpy as np "
      ],
      "execution_count": 2,
      "outputs": []
    },
    {
      "cell_type": "markdown",
      "metadata": {
        "id": "7vJMkTYmD9NI",
        "colab_type": "text"
      },
      "source": [
        "#Python Code"
      ]
    },
    {
      "cell_type": "code",
      "metadata": {
        "id": "3Ij8jDxKFOLN",
        "colab_type": "code",
        "colab": {}
      },
      "source": [
        "def LevenshteinDistance(source, target, ins_cost = 1, del_cost = 1, substitution_cost = 2):\n",
        "\n",
        "    # use deletion and insert cost as  1\n",
        "    m = len(source) \n",
        "    n = len(target) \n",
        "\n",
        "    #initialize cost matrix with zeros and dimensions (m+1,n+1) \n",
        "    D = np.zeros((m+1, n+1), dtype=int) \n",
        "    \n",
        "    \n",
        "    # Fill in column 0, from row 1 to row m, both inclusive\n",
        "    for row in range(1,1+m): # Replace None with the proper range\n",
        "        D[row,0] = D[row-1,0]+del_cost\n",
        "        \n",
        "    # Fill in row 0, for all columns from 1 to n, both inclusive\n",
        "    for col in range(1,1+n): # Replace None with the proper range\n",
        "        D[0,col] = D[0,col-1] + ins_cost\n",
        "        \n",
        "    # Loop through row 1 to row m, both inclusive\n",
        "    for row in range(1,1+m): \n",
        "        \n",
        "        # Loop through column 1 to column n, both inclusive\n",
        "        for col in range(1,1+n):\n",
        "            \n",
        "            # Intialize r_cost to the 'replace' cost that is passed into this function\n",
        "            r_cost = substitution_cost\n",
        "            \n",
        "            # Check to see if source character at the previous row\n",
        "            # matches the target character at the previous column, \n",
        "            if source[row-1] == target[col-1]:\n",
        "                # Update the replacement cost to 0 if source and target are the same\n",
        "                r_cost = 0\n",
        "                \n",
        "            # Update the cost at row, col based on previous entries in the cost matrix\n",
        "            # Refer to the equation calculate for D[i,j] (the minimum of three calculated costs)\n",
        "            D[row,col] = min([D[row-1,col]+del_cost, D[row,col-1]+ins_cost, D[row-1,col-1]+r_cost])\n",
        "          \n",
        "    # Set the minimum edit distance with the cost found at row m, column n\n",
        "    med = D[m,n]\n",
        "    \n",
        "    ### END CODE HERE ###\n",
        "    return med\n"
      ],
      "execution_count": 10,
      "outputs": []
    },
    {
      "cell_type": "code",
      "metadata": {
        "id": "i9qklOqWD7H3",
        "colab_type": "code",
        "colab": {
          "base_uri": "https://localhost:8080/",
          "height": 34
        },
        "outputId": "e9dab933-a80b-4076-84dd-db282f9aab53"
      },
      "source": [
        "LevenshteinDistance(\"play\",\"stay\")"
      ],
      "execution_count": 11,
      "outputs": [
        {
          "output_type": "execute_result",
          "data": {
            "text/plain": [
              "4"
            ]
          },
          "metadata": {
            "tags": []
          },
          "execution_count": 11
        }
      ]
    },
    {
      "cell_type": "markdown",
      "metadata": {
        "id": "19133fOBD5Bb",
        "colab_type": "text"
      },
      "source": [
        "#C Code "
      ]
    },
    {
      "cell_type": "code",
      "metadata": {
        "id": "p9DvL--5PrTs",
        "colab_type": "code",
        "colab": {}
      },
      "source": [
        "function LevenshteinDistance (char s[1..m], char t[1..n]):\n",
        "\n",
        "  // for all i and j, d[i,j] will hold the Levenshtein distance between\n",
        "  // the first i characters of s and the first j characters of t\n",
        "\n",
        "  declare int d[0..m, 0..n]\n",
        " \n",
        "  set each element in d to zero\n",
        " \n",
        "  // source prefixes can be transformed into empty string by\n",
        "  // dropping all characters\n",
        "\n",
        "  for i from 1 to m:\n",
        "      d[i, 0] := i\n",
        "\n",
        "// target prefixes can be reached from empty source prefix\n",
        " // by inserting every character\n",
        "\n",
        "  for j from 1 to n:\n",
        "      d[0, j] := j\n",
        " \n",
        "  for j from 1 to n:\n",
        "      for i from 1 to m:\n",
        "          if s[i] = t[j]:\n",
        "            substitutionCost := 0\n",
        "          else:\n",
        "              substitutionCost := 2\n",
        "\n",
        "          d[i, j] :=       minimum(d[i-1, j] + 1,                   // deletion\n",
        "                            d[i, j-1] + 1,                                     // insertion\n",
        "                            d[i-1, j-1] + substitutionCost)     // substitution\n",
        "  \n",
        "  return d[m, n]\n"
      ],
      "execution_count": null,
      "outputs": []
    }
  ]
}